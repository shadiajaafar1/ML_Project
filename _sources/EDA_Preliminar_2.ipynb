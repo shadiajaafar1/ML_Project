{
 "cells": [
  {
   "cell_type": "markdown",
   "metadata": {},
   "source": [
    "# Proyecto Viz\n",
    "\n",
    "### Librerías utilizadas"
   ]
  },
  {
   "cell_type": "code",
   "execution_count": 1,
   "metadata": {},
   "outputs": [],
   "source": [
    "import pandas as pd\n",
    "import numpy as np\n",
    "import seaborn as sns\n",
    "import matplotlib.pyplot as plt\n",
    "import datetime\n",
    "import plotly.express as px\n",
    "import statsmodels.api as sm\n",
    "from sklearn.model_selection import train_test_split, cross_val_score\n",
    "from sklearn.metrics import confusion_matrix, classification_report, roc_curve,auc\n",
    "from sklearn.ensemble import  RandomForestClassifier\n",
    "from sklearn.impute import KNNImputer"
   ]
  },
  {
   "cell_type": "markdown",
   "metadata": {},
   "source": [
    "## Análisis Exploratorio de Datos (EDA) - Fraud Detection"
   ]
  },
  {
   "cell_type": "markdown",
   "metadata": {},
   "source": [
    "### Datos"
   ]
  },
  {
   "cell_type": "code",
   "execution_count": 8,
   "metadata": {},
   "outputs": [
    {
     "name": "stderr",
     "output_type": "stream",
     "text": [
      "C:\\Users\\g_a09\\AppData\\Local\\Temp\\ipykernel_6340\\1382054988.py:1: DtypeWarning: Columns (5) have mixed types. Specify dtype option on import or set low_memory=False.\n",
      "  df = pd.read_csv('dataF.csv')\n"
     ]
    },
    {
     "name": "stdout",
     "output_type": "stream",
     "text": [
      "   TransactionID  TransactionDT  TransactionAmt   C3   C5  card6  isFraud  \\\n",
      "0        2987000          86400            68.5  0.0  0.0   True    False   \n",
      "1        2987001          86401            29.0  0.0  0.0   True    False   \n",
      "2        2987002          86469            59.0  0.0  0.0  False    False   \n",
      "3        2987003          86499            50.0  0.0  0.0  False    False   \n",
      "4        2987004          86506            50.0  0.0  0.0   True    False   \n",
      "\n",
      "   card3  card2  card4_american express  card4_discover  card4_mastercard  \\\n",
      "0  150.0    NaN                   False            True             False   \n",
      "1  150.0  404.0                   False           False              True   \n",
      "2  150.0  490.0                   False           False             False   \n",
      "3  150.0  567.0                   False           False              True   \n",
      "4  150.0  514.0                   False           False              True   \n",
      "\n",
      "   card4_visa  \n",
      "0       False  \n",
      "1       False  \n",
      "2        True  \n",
      "3       False  \n",
      "4       False  \n"
     ]
    }
   ],
   "source": [
    "df = pd.read_csv('dataF.csv')\n",
    "print(df.head())"
   ]
  },
  {
   "cell_type": "markdown",
   "metadata": {},
   "source": [
    "Preliminarmente se observa que hay columnas tanto categoricas como numericas, donde las ultimas 4 categorias se pueden resumir en 1 sola variable que sea el tipo de compañia procesadora de pagos (AmericanExp, Discover, Mastercard, Visa).\n",
    "Por otro lado la columna \"TransactionDT\" parece ser un registro de tiempo para cada transaccion en segundos, por conveniencia se cambiara a 1 de enero 2024 la hora mas baja, debido a que no se tiene mas informacion al respecto."
   ]
  },
  {
   "cell_type": "code",
   "execution_count": 9,
   "metadata": {},
   "outputs": [
    {
     "data": {
      "text/plain": [
       "0"
      ]
     },
     "execution_count": 9,
     "metadata": {},
     "output_type": "execute_result"
    }
   ],
   "source": [
    "df_card=df.iloc[:,9:]\n",
    "df_card[\"sum\"]=df_card.sum(axis=1)\n",
    "(df_card[\"sum\"]>1).sum() "
   ]
  },
  {
   "cell_type": "markdown",
   "metadata": {},
   "source": [
    "Se puede confirmar que para cada fila solo existe un unico valor entre las 4 columnas, por ende esa columna puede ser agrupada en 1 sola, resultando en una variable categorica con 4 argumentos."
   ]
  },
  {
   "cell_type": "markdown",
   "metadata": {},
   "source": [
    "### Junte de columnas"
   ]
  },
  {
   "cell_type": "code",
   "execution_count": 10,
   "metadata": {},
   "outputs": [],
   "source": [
    "column_dict={\n",
    "    \"card4_american express\":\"AmExp\",\n",
    "    \"card4_discover\":\"Disc\",\n",
    "    \"card4_mastercard\":\"MastC\",\n",
    "    \"card4_visa\":\"Visa\",\n",
    "}\n",
    "df.rename(columns=column_dict,inplace=True)"
   ]
  },
  {
   "cell_type": "code",
   "execution_count": 11,
   "metadata": {},
   "outputs": [],
   "source": [
    "df[\"Entity\"]=df.iloc[:,9:].idxmax(axis=1)"
   ]
  },
  {
   "cell_type": "code",
   "execution_count": 12,
   "metadata": {},
   "outputs": [
    {
     "data": {
      "text/html": [
       "<div>\n",
       "<style scoped>\n",
       "    .dataframe tbody tr th:only-of-type {\n",
       "        vertical-align: middle;\n",
       "    }\n",
       "\n",
       "    .dataframe tbody tr th {\n",
       "        vertical-align: top;\n",
       "    }\n",
       "\n",
       "    .dataframe thead th {\n",
       "        text-align: right;\n",
       "    }\n",
       "</style>\n",
       "<table border=\"1\" class=\"dataframe\">\n",
       "  <thead>\n",
       "    <tr style=\"text-align: right;\">\n",
       "      <th></th>\n",
       "      <th>TransactionID</th>\n",
       "      <th>TransactionDT</th>\n",
       "      <th>TransactionAmt</th>\n",
       "      <th>C3</th>\n",
       "      <th>C5</th>\n",
       "      <th>card6</th>\n",
       "      <th>isFraud</th>\n",
       "      <th>card3</th>\n",
       "      <th>card2</th>\n",
       "      <th>Entity</th>\n",
       "    </tr>\n",
       "  </thead>\n",
       "  <tbody>\n",
       "    <tr>\n",
       "      <th>0</th>\n",
       "      <td>2987000</td>\n",
       "      <td>86400</td>\n",
       "      <td>68.5</td>\n",
       "      <td>0.0</td>\n",
       "      <td>0.0</td>\n",
       "      <td>True</td>\n",
       "      <td>False</td>\n",
       "      <td>150.0</td>\n",
       "      <td>NaN</td>\n",
       "      <td>Disc</td>\n",
       "    </tr>\n",
       "    <tr>\n",
       "      <th>1</th>\n",
       "      <td>2987001</td>\n",
       "      <td>86401</td>\n",
       "      <td>29.0</td>\n",
       "      <td>0.0</td>\n",
       "      <td>0.0</td>\n",
       "      <td>True</td>\n",
       "      <td>False</td>\n",
       "      <td>150.0</td>\n",
       "      <td>404.0</td>\n",
       "      <td>MastC</td>\n",
       "    </tr>\n",
       "  </tbody>\n",
       "</table>\n",
       "</div>"
      ],
      "text/plain": [
       "   TransactionID  TransactionDT  TransactionAmt   C3   C5 card6  isFraud  \\\n",
       "0        2987000          86400            68.5  0.0  0.0  True    False   \n",
       "1        2987001          86401            29.0  0.0  0.0  True    False   \n",
       "\n",
       "   card3  card2 Entity  \n",
       "0  150.0    NaN   Disc  \n",
       "1  150.0  404.0  MastC  "
      ]
     },
     "execution_count": 12,
     "metadata": {},
     "output_type": "execute_result"
    }
   ],
   "source": [
    "df.drop(df.columns[9:13],axis=1,inplace=True)\n",
    "df.head(2)"
   ]
  },
  {
   "cell_type": "markdown",
   "metadata": {},
   "source": [
    "Se confirma que se hizo correctamente la creacion de una nueva variable que contiene la informacion de las 4 originales."
   ]
  },
  {
   "cell_type": "markdown",
   "metadata": {},
   "source": [
    "### TransactionDT a fecha"
   ]
  },
  {
   "cell_type": "code",
   "execution_count": 13,
   "metadata": {},
   "outputs": [
    {
     "data": {
      "text/plain": [
       "0"
      ]
     },
     "execution_count": 13,
     "metadata": {},
     "output_type": "execute_result"
    }
   ],
   "source": [
    "df.TransactionDT.isnull().sum()"
   ]
  },
  {
   "cell_type": "markdown",
   "metadata": {},
   "source": [
    "Se confirma primero que no existan faltantes para proceder a convertir el la columna TransactionDT a fecha"
   ]
  },
  {
   "cell_type": "code",
   "execution_count": 14,
   "metadata": {},
   "outputs": [
    {
     "name": "stdout",
     "output_type": "stream",
     "text": [
      "[Timestamp('2024-01-02 00:00:00'), Timestamp('2024-01-02 00:00:01'), Timestamp('2024-01-02 00:01:09'), Timestamp('2024-01-02 00:01:39'), Timestamp('2024-01-02 00:01:46'), Timestamp('2024-01-02 00:01:50'), Timestamp('2024-01-02 00:02:02'), Timestamp('2024-01-02 00:02:09'), Timestamp('2024-01-02 00:02:15'), Timestamp('2024-01-02 00:02:16')]\n"
     ]
    }
   ],
   "source": [
    "fecha_inicio=datetime.datetime(2024,1,1)\n",
    "def pasar_fechas(segs): return fecha_inicio + datetime.timedelta(seconds=segs)\n",
    "df[\"TransactionDT\"]=df[\"TransactionDT\"].apply(pasar_fechas)\n",
    "print(list(df.TransactionDT.head(10)))"
   ]
  },
  {
   "cell_type": "code",
   "execution_count": 15,
   "metadata": {},
   "outputs": [
    {
     "data": {
      "text/plain": [
       "0   2024-01-02 00:00:00\n",
       "1   2024-01-02 00:00:01\n",
       "2   2024-01-02 00:01:09\n",
       "3   2024-01-02 00:01:39\n",
       "4   2024-01-02 00:01:46\n",
       "5   2024-01-02 00:01:50\n",
       "6   2024-01-02 00:02:02\n",
       "7   2024-01-02 00:02:09\n",
       "8   2024-01-02 00:02:15\n",
       "9   2024-01-02 00:02:16\n",
       "Name: TransactionDT, dtype: datetime64[ns]"
      ]
     },
     "execution_count": 15,
     "metadata": {},
     "output_type": "execute_result"
    }
   ],
   "source": [
    "df.TransactionDT.head(10)"
   ]
  },
  {
   "cell_type": "markdown",
   "metadata": {},
   "source": [
    "### Exploracion de la serie de tiempo"
   ]
  },
  {
   "cell_type": "code",
   "execution_count": 16,
   "metadata": {},
   "outputs": [],
   "source": [
    "df[\"hora_dia\"]=df[\"TransactionDT\"].dt.hour"
   ]
  },
  {
   "cell_type": "markdown",
   "metadata": {},
   "source": [
    "Se procede a crear una variable que contenga la informacion de que \"hora del dia\" se esta registrando la transaccion."
   ]
  },
  {
   "cell_type": "code",
   "execution_count": 17,
   "metadata": {},
   "outputs": [],
   "source": [
    "grouped = df.groupby('hora_dia').agg(\n",
    "    total_transactions=pd.NamedAgg(column='isFraud', aggfunc='count'),\n",
    "    fraudulent_transactions=pd.NamedAgg(column='isFraud', aggfunc='sum')\n",
    ")"
   ]
  },
  {
   "cell_type": "code",
   "execution_count": 18,
   "metadata": {},
   "outputs": [],
   "source": [
    "grouped['proportion'] = grouped['fraudulent_transactions'] / grouped['total_transactions']"
   ]
  },
  {
   "cell_type": "code",
   "execution_count": 19,
   "metadata": {},
   "outputs": [
    {
     "data": {
      "image/png": "[encoded data removed]",
      "text/plain": [
       "<Figure size 640x480 with 1 Axes>"
      ]
     },
     "metadata": {},
     "output_type": "display_data"
    }
   ],
   "source": [
    "grouped['proportion'].plot(kind='bar', title='Proporción de Transacciones Fraudulentas por Hora del Día')\n",
    "plt.xlabel('Hora del Día')\n",
    "plt.ylabel('Proporción de Transacciones Fraudulentas')\n",
    "plt.show()"
   ]
  },
  {
   "cell_type": "markdown",
   "metadata": {},
   "source": [
    "Se puede apreciar que hay un pico alrededor de \"la hora 7\" de proporcion de transacciones fraudulentas, lo que indicaria una importancia significa en la hora de la transaccion."
   ]
  },
  {
   "cell_type": "code",
   "execution_count": 20,
   "metadata": {},
   "outputs": [
    {
     "data": {
      "application/vnd.plotly.v1+json": {
       "config": {
        "plotlyServerURL": "https://plot.ly"
       },
       "data": [
        {
         "hovertemplate": "Fecha=%{x}<br>Proporción de Fraudes=%{y}<extra></extra>",
         "legendgroup": "",
         "line": {
          "color": "#636efa",
          "dash": "solid"
         },
         "marker": {
          "symbol": "circle"
         },
         "mode": "lines+markers",
         "name": "",
         "orientation": "v",
         "showlegend": false,
         "type": "scatter",
         "x": [
          "2024-01-02",
          "2024-01-03",
          "2024-01-04",
          "2024-01-05",
          "2024-01-06",
          "2024-01-07",
          "2024-01-08",
          "2024-01-09",
          "2024-01-10",
          "2024-01-11",
          "2024-01-12",
          "2024-01-13",
          "2024-01-14",
          "2024-01-15",
          "2024-01-16",
          "2024-01-17",
          "2024-01-18",
          "2024-01-19",
          "2024-01-20",
          "2024-01-21",
          "2024-01-22",
          "2024-01-23",
          "2024-01-24",
          "2024-01-25",
          "2024-01-26",
          "2024-01-27",
          "2024-01-28",
          "2024-01-29",
          "2024-01-30",
          "2024-01-31",
          "2024-02-01",
          "2024-02-02",
          "2024-02-03",
          "2024-02-04",
          "2024-02-05",
          "2024-02-06",
          "2024-02-07",
          "2024-02-08",
          "2024-02-09",
          "2024-02-10",
          "2024-02-11",
          "2024-02-12",
          "2024-02-13",
          "2024-02-14",
          "2024-02-15",
          "2024-02-16",
          "2024-02-17",
          "2024-02-18",
          "2024-02-19",
          "2024-02-20",
          "2024-02-21",
          "2024-02-22",
          "2024-02-23",
          "2024-02-24",
          "2024-02-25",
          "2024-02-26",
          "2024-02-27",
          "2024-02-28",
          "2024-02-29",
          "2024-03-01",
          "2024-03-02",
          "2024-03-03",
          "2024-03-04",
          "2024-03-05",
          "2024-03-06",
          "2024-03-07",
          "2024-03-08",
          "2024-03-09",
          "2024-03-10",
          "2024-03-11",
          "2024-03-12",
          "2024-03-13",
          "2024-03-14",
          "2024-03-15",
          "2024-03-16",
          "2024-03-17",
          "2024-03-18",
          "2024-03-19",
          "2024-03-20",
          "2024-03-21",
          "2024-03-22",
          "2024-03-23",
          "2024-03-24",
          "2024-03-25",
          "2024-03-26",
          "2024-03-27",
          "2024-03-28",
          "2024-03-29",
          "2024-03-30",
          "2024-03-31",
          "2024-04-01",
          "2024-04-02",
          "2024-04-03",
          "2024-04-04",
          "2024-04-05",
          "2024-04-06",
          "2024-04-07",
          "2024-04-08",
          "2024-04-09",
          "2024-04-10",
          "2024-04-11",
          "2024-04-12",
          "2024-04-13",
          "2024-04-14",
          "2024-04-15",
          "2024-04-16",
          "2024-04-17",
          "2024-04-18",
          "2024-04-19",
          "2024-04-20",
          "2024-04-21",
          "2024-04-22",
          "2024-04-23",
          "2024-04-24",
          "2024-04-25",
          "2024-04-26",
          "2024-04-27",
          "2024-04-28",
          "2024-04-29",
          "2024-04-30",
          "2024-05-01",
          "2024-05-02",
          "2024-05-03",
          "2024-05-04",
          "2024-05-05",
          "2024-05-06",
          "2024-05-07",
          "2024-05-08",
          "2024-05-09",
          "2024-05-10",
          "2024-05-11",
          "2024-05-12",
          "2024-05-13",
          "2024-05-14",
          "2024-05-15",
          "2024-05-16",
          "2024-05-17",
          "2024-05-18",
          "2024-05-19",
          "2024-05-20",
          "2024-05-21",
          "2024-05-22",
          "2024-05-23",
          "2024-05-24",
          "2024-05-25",
          "2024-05-26",
          "2024-05-27",
          "2024-05-28",
          "2024-05-29",
          "2024-05-30",
          "2024-05-31",
          "2024-06-01",
          "2024-06-02",
          "2024-06-03",
          "2024-06-04",
          "2024-06-05",
          "2024-06-06",
          "2024-06-07",
          "2024-06-08",
          "2024-06-09",
          "2024-06-10",
          "2024-06-11",
          "2024-06-12",
          "2024-06-13",
          "2024-06-14",
          "2024-06-15",
          "2024-06-16",
          "2024-06-17",
          "2024-06-18",
          "2024-06-19",
          "2024-06-20",
          "2024-06-21",
          "2024-06-22",
          "2024-06-23",
          "2024-06-24",
          "2024-06-25",
          "2024-06-26",
          "2024-06-27",
          "2024-06-28",
          "2024-06-29",
          "2024-06-30",
          "2024-07-01"
         ],
         "xaxis": "x",
         "y": [
          0.021866458414681766,
          0.032975871313672925,
          0.028386300524529465,
          0.028493557978196235,
          0.03203834510595358,
          0.026634382566585957,
          0.03592181722134179,
          0.023255813953488372,
          0.030458152034809317,
          0.026124818577648767,
          0.02847881454040287,
          0.020172910662824207,
          0.01960315562993067,
          0.02834008097165992,
          0.02840683353198252,
          0.016184971098265895,
          0.033114323258869906,
          0.0288272157564906,
          0.021353601158161418,
          0.02348234475560967,
          0.020433327461687512,
          0.021453590192644482,
          0.018051771117166212,
          0.012530915086562242,
          0.0109717868338558,
          0.02371312897628687,
          0.02789400278940028,
          0.045018007202881155,
          0.0299860529986053,
          0.04687036487689113,
          0.0499664654594232,
          0.0213657310431504,
          0.03614457831325301,
          0.037288930581613505,
          0.031331592689295036,
          0.03780453654438533,
          0.041584158415841586,
          0.04323899371069182,
          0.038780245276765,
          0.03740562800274537,
          0.04085077650236327,
          0.02950364456785838,
          0.044370493621741544,
          0.04271356783919598,
          0.043478260869565216,
          0.04199569274946159,
          0.030629417704476608,
          0.03755715218811234,
          0.03963314772355061,
          0.05245803357314149,
          0.052370842179759375,
          0.0488641234462066,
          0.027166437414030263,
          0.040028591851322376,
          0.02742692168892097,
          0.05665112943707422,
          0.03329260843005498,
          0.03804550540842969,
          0.06994171523730225,
          0.036834924965893585,
          0.03600128576020572,
          0.053974484789008834,
          0.041006289308176104,
          0.054204308547602505,
          0.05702711124961047,
          0.03289473684210526,
          0.03723239218119764,
          0.035148828372387586,
          0.03769968051118211,
          0.049776862341228974,
          0.04652586470768289,
          0.034256559766763846,
          0.05859375,
          0.03843689942344651,
          0.03601833660772757,
          0.041666666666666664,
          0.041583499667332005,
          0.03158559696778269,
          0.04203869047619048,
          0.029945553539019964,
          0.03667481662591687,
          0.03198653198653199,
          0.027607361963190184,
          0.03462686567164179,
          0.052322327923894796,
          0.04697482149567832,
          0.03883876029815614,
          0.024826216484607744,
          0.035337879727216366,
          0.0393677303906949,
          0.04492138757174944,
          0.023512476007677544,
          0.033377541998231654,
          0.027635619242579325,
          0.04042037186742118,
          0.028060437866173297,
          0.043520309477756286,
          0.03518821603927987,
          0.03180854286579824,
          0.0327653997378768,
          0.0272,
          0.03316487681617183,
          0.03128023218316672,
          0.03563402889245586,
          0.043506921555702044,
          0.04719031356721515,
          0.04521181915272339,
          0.04197638828159161,
          0.04220882259600127,
          0.03876739562624255,
          0.03207547169811321,
          0.04310077519379845,
          0.049891540130151846,
          0.05438723712835388,
          0.056481105241771634,
          0.05239472838315654,
          0.06377383300460224,
          0.03680402642340359,
          0.04393939393939394,
          0.04592742958639939,
          0.04010606562810739,
          0.025528520143597924,
          0.03775811209439528,
          0.021180390290337935,
          0.04268820305739833,
          0.03343166175024582,
          0.025187406296851574,
          0.027522935779816515,
          0.05536626916524702,
          0.033843961524759526,
          0.03720765414599575,
          0.03924418604651163,
          0.05061406773353182,
          0.035069799114742936,
          0.03705228489090161,
          0.03564453125,
          0.02367879203843514,
          0.03935347856640899,
          0.022029613578909354,
          0.03917839482693039,
          0.043666666666666666,
          0.04307820995399415,
          0.03439922480620155,
          0.033112582781456956,
          0.025112443778110945,
          0.03277591973244147,
          0.029065489330389993,
          0.028104575163398694,
          0.028833551769331587,
          0.03123585332729742,
          0.03192518542405676,
          0.030800821355236138,
          0.04057971014492753,
          0.024848004229447527,
          0.035501193317422436,
          0.020970873786407766,
          0.03054448871181939,
          0.0265748031496063,
          0.031282952548330405,
          0.029534398888116747,
          0.023826208829712685,
          0.03526136715125271,
          0.04722222222222222,
          0.025769745649263723,
          0.02402896642527979,
          0.03207096554077107,
          0.03940397350993378,
          0.03934871099050204,
          0.04575368223127546,
          0.04192611041926111,
          0.024329159212880144,
          0.025632911392405065,
          0.04954640614096301,
          0.030666196686640817,
          0.04025344763324636,
          0.04782321899736148,
          0.0461082910321489,
          0.0425531914893617,
          0.03031694993109784,
          0.0374331550802139,
          0.04454180357794816,
          0.043209876543209874
         ],
         "yaxis": "y"
        }
       ],
       "layout": {
        "legend": {
         "tracegroupgap": 0
        },
        "template": {
         "data": {
          "bar": [
           {
            "error_x": {
             "color": "#2a3f5f"
            },
            "error_y": {
             "color": "#2a3f5f"
            },
            "marker": {
             "line": {
              "color": "#E5ECF6",
              "width": 0.5
             },
             "pattern": {
              "fillmode": "overlay",
              "size": 10,
              "solidity": 0.2
             }
            },
            "type": "bar"
           }
          ],
          "barpolar": [
           {
            "marker": {
             "line": {
              "color": "#E5ECF6",
              "width": 0.5
             },
             "pattern": {
              "fillmode": "overlay",
              "size": 10,
              "solidity": 0.2
             }
            },
            "type": "barpolar"
           }
          ],
          "carpet": [
           {
            "aaxis": {
             "endlinecolor": "#2a3f5f",
             "gridcolor": "white",
             "linecolor": "white",
             "minorgridcolor": "white",
             "startlinecolor": "#2a3f5f"
            },
            "baxis": {
             "endlinecolor": "#2a3f5f",
             "gridcolor": "white",
             "linecolor": "white",
             "minorgridcolor": "white",
             "startlinecolor": "#2a3f5f"
            },
            "type": "carpet"
           }
          ],
          "choropleth": [
           {
            "colorbar": {
             "outlinewidth": 0,
             "ticks": ""
            },
            "type": "choropleth"
           }
          ],
          "contour": [
           {
            "colorbar": {
             "outlinewidth": 0,
             "ticks": ""
            },
            "colorscale": [
             [
              0,
              "#0d0887"
             ],
             [
              0.1111111111111111,
              "#46039f"
             ],
             [
              0.2222222222222222,
              "#7201a8"
             ],
             [
              0.3333333333333333,
              "#9c179e"
             ],
             [
              0.4444444444444444,
              "#bd3786"
             ],
             [
              0.5555555555555556,
              "#d8576b"
             ],
             [
              0.6666666666666666,
              "#ed7953"
             ],
             [
              0.7777777777777778,
              "#fb9f3a"
             ],
             [
              0.8888888888888888,
              "#fdca26"
             ],
             [
              1,
              "#f0f921"
             ]
            ],
            "type": "contour"
           }
          ],
          "contourcarpet": [
           {
            "colorbar": {
             "outlinewidth": 0,
             "ticks": ""
            },
            "type": "contourcarpet"
           }
          ],
          "heatmap": [
           {
            "colorbar": {
             "outlinewidth": 0,
             "ticks": ""
            },
            "colorscale": [
             [
              0,
              "#0d0887"
             ],
             [
              0.1111111111111111,
              "#46039f"
             ],
             [
              0.2222222222222222,
              "#7201a8"
             ],
             [
              0.3333333333333333,
              "#9c179e"
             ],
             [
              0.4444444444444444,
              "#bd3786"
             ],
             [
              0.5555555555555556,
              "#d8576b"
             ],
             [
              0.6666666666666666,
              "#ed7953"
             ],
             [
              0.7777777777777778,
              "#fb9f3a"
             ],
             [
              0.8888888888888888,
              "#fdca26"
             ],
             [
              1,
              "#f0f921"
             ]
            ],
            "type": "heatmap"
           }
          ],
          "heatmapgl": [
           {
            "colorbar": {
             "outlinewidth": 0,
             "ticks": ""
            },
            "colorscale": [
             [
              0,
              "#0d0887"
             ],
             [
              0.1111111111111111,
              "#46039f"
             ],
             [
              0.2222222222222222,
              "#7201a8"
             ],
             [
              0.3333333333333333,
              "#9c179e"
             ],
             [
              0.4444444444444444,
              "#bd3786"
             ],
             [
              0.5555555555555556,
              "#d8576b"
             ],
             [
              0.6666666666666666,
              "#ed7953"
             ],
             [
              0.7777777777777778,
              "#fb9f3a"
             ],
             [
              0.8888888888888888,
              "#fdca26"
             ],
             [
              1,
              "#f0f921"
             ]
            ],
            "type": "heatmapgl"
           }
          ],
          "histogram": [
           {
            "marker": {
             "pattern": {
              "fillmode": "overlay",
              "size": 10,
              "solidity": 0.2
             }
            },
            "type": "histogram"
           }
          ],
          "histogram2d": [
           {
            "colorbar": {
             "outlinewidth": 0,
             "ticks": ""
            },
            "colorscale": [
             [
              0,
              "#0d0887"
             ],
             [
              0.1111111111111111,
              "#46039f"
             ],
             [
              0.2222222222222222,
              "#7201a8"
             ],
             [
              0.3333333333333333,
              "#9c179e"
             ],
             [
              0.4444444444444444,
              "#bd3786"
             ],
             [
              0.5555555555555556,
              "#d8576b"
             ],
             [
              0.6666666666666666,
              "#ed7953"
             ],
             [
              0.7777777777777778,
              "#fb9f3a"
             ],
             [
              0.8888888888888888,
              "#fdca26"
             ],
             [
              1,
              "#f0f921"
             ]
            ],
            "type": "histogram2d"
           }
          ],
          "histogram2dcontour": [
           {
            "colorbar": {
             "outlinewidth": 0,
             "ticks": ""
            },
            "colorscale": [
             [
              0,
              "#0d0887"
             ],
             [
              0.1111111111111111,
              "#46039f"
             ],
             [
              0.2222222222222222,
              "#7201a8"
             ],
             [
              0.3333333333333333,
              "#9c179e"
             ],
             [
              0.4444444444444444,
              "#bd3786"
             ],
             [
              0.5555555555555556,
              "#d8576b"
             ],
             [
              0.6666666666666666,
              "#ed7953"
             ],
             [
              0.7777777777777778,
              "#fb9f3a"
             ],
             [
              0.8888888888888888,
              "#fdca26"
             ],
             [
              1,
              "#f0f921"
             ]
            ],
            "type": "histogram2dcontour"
           }
          ],
          "mesh3d": [
           {
            "colorbar": {
             "outlinewidth": 0,
             "ticks": ""
            },
            "type": "mesh3d"
           }
          ],
          "parcoords": [
           {
            "line": {
             "colorbar": {
              "outlinewidth": 0,
              "ticks": ""
             }
            },
            "type": "parcoords"
           }
          ],
          "pie": [
           {
            "automargin": true,
            "type": "pie"
           }
          ],
          "scatter": [
           {
            "fillpattern": {
             "fillmode": "overlay",
             "size": 10,
             "solidity": 0.2
            },
            "type": "scatter"
           }
          ],
          "scatter3d": [
           {
            "line": {
             "colorbar": {
              "outlinewidth": 0,
              "ticks": ""
             }
            },
            "marker": {
             "colorbar": {
              "outlinewidth": 0,
              "ticks": ""
             }
            },
            "type": "scatter3d"
           }
          ],
          "scattercarpet": [
           {
            "marker": {
             "colorbar": {
              "outlinewidth": 0,
              "ticks": ""
             }
            },
            "type": "scattercarpet"
           }
          ],
          "scattergeo": [
           {
            "marker": {
             "colorbar": {
              "outlinewidth": 0,
              "ticks": ""
             }
            },
            "type": "scattergeo"
           }
          ],
          "scattergl": [
           {
            "marker": {
             "colorbar": {
              "outlinewidth": 0,
              "ticks": ""
             }
            },
            "type": "scattergl"
           }
          ],
          "scattermapbox": [
           {
            "marker": {
             "colorbar": {
              "outlinewidth": 0,
              "ticks": ""
             }
            },
            "type": "scattermapbox"
           }
          ],
          "scatterpolar": [
           {
            "marker": {
             "colorbar": {
              "outlinewidth": 0,
              "ticks": ""
             }
            },
            "type": "scatterpolar"
           }
          ],
          "scatterpolargl": [
           {
            "marker": {
             "colorbar": {
              "outlinewidth": 0,
              "ticks": ""
             }
            },
            "type": "scatterpolargl"
           }
          ],
          "scatterternary": [
           {
            "marker": {
             "colorbar": {
              "outlinewidth": 0,
              "ticks": ""
             }
            },
            "type": "scatterternary"
           }
          ],
          "surface": [
           {
            "colorbar": {
             "outlinewidth": 0,
             "ticks": ""
            },
            "colorscale": [
             [
              0,
              "#0d0887"
             ],
             [
              0.1111111111111111,
              "#46039f"
             ],
             [
              0.2222222222222222,
              "#7201a8"
             ],
             [
              0.3333333333333333,
              "#9c179e"
             ],
             [
              0.4444444444444444,
              "#bd3786"
             ],
             [
              0.5555555555555556,
              "#d8576b"
             ],
             [
              0.6666666666666666,
              "#ed7953"
             ],
             [
              0.7777777777777778,
              "#fb9f3a"
             ],
             [
              0.8888888888888888,
              "#fdca26"
             ],
             [
              1,
              "#f0f921"
             ]
            ],
            "type": "surface"
           }
          ],
          "table": [
           {
            "cells": {
             "fill": {
              "color": "#EBF0F8"
             },
             "line": {
              "color": "white"
             }
            },
            "header": {
             "fill": {
              "color": "#C8D4E3"
             },
             "line": {
              "color": "white"
             }
            },
            "type": "table"
           }
          ]
         },
         "layout": {
          "annotationdefaults": {
           "arrowcolor": "#2a3f5f",
           "arrowhead": 0,
           "arrowwidth": 1
          },
          "autotypenumbers": "strict",
          "coloraxis": {
           "colorbar": {
            "outlinewidth": 0,
            "ticks": ""
           }
          },
          "colorscale": {
           "diverging": [
            [
             0,
             "#8e0152"
            ],
            [
             0.1,
             "#c51b7d"
            ],
            [
             0.2,
             "#de77ae"
            ],
            [
             0.3,
             "#f1b6da"
            ],
            [
             0.4,
             "#fde0ef"
            ],
            [
             0.5,
             "#f7f7f7"
            ],
            [
             0.6,
             "#e6f5d0"
            ],
            [
             0.7,
             "#b8e186"
            ],
            [
             0.8,
             "#7fbc41"
            ],
            [
             0.9,
             "#4d9221"
            ],
            [
             1,
             "#276419"
            ]
           ],
           "sequential": [
            [
             0,
             "#0d0887"
            ],
            [
             0.1111111111111111,
             "#46039f"
            ],
            [
             0.2222222222222222,
             "#7201a8"
            ],
            [
             0.3333333333333333,
             "#9c179e"
            ],
            [
             0.4444444444444444,
             "#bd3786"
            ],
            [
             0.5555555555555556,
             "#d8576b"
            ],
            [
             0.6666666666666666,
             "#ed7953"
            ],
            [
             0.7777777777777778,
             "#fb9f3a"
            ],
            [
             0.8888888888888888,
             "#fdca26"
            ],
            [
             1,
             "#f0f921"
            ]
           ],
           "sequentialminus": [
            [
             0,
             "#0d0887"
            ],
            [
             0.1111111111111111,
             "#46039f"
            ],
            [
             0.2222222222222222,
             "#7201a8"
            ],
            [
             0.3333333333333333,
             "#9c179e"
            ],
            [
             0.4444444444444444,
             "#bd3786"
            ],
            [
             0.5555555555555556,
             "#d8576b"
            ],
            [
             0.6666666666666666,
             "#ed7953"
            ],
            [
             0.7777777777777778,
             "#fb9f3a"
            ],
            [
             0.8888888888888888,
             "#fdca26"
            ],
            [
             1,
             "#f0f921"
            ]
           ]
          },
          "colorway": [
           "#636efa",
           "#EF553B",
           "#00cc96",
           "#ab63fa",
           "#FFA15A",
           "#19d3f3",
           "#FF6692",
           "#B6E880",
           "#FF97FF",
           "#FECB52"
          ],
          "font": {
           "color": "#2a3f5f"
          },
          "geo": {
           "bgcolor": "white",
           "lakecolor": "white",
           "landcolor": "#E5ECF6",
           "showlakes": true,
           "showland": true,
           "subunitcolor": "white"
          },
          "hoverlabel": {
           "align": "left"
          },
          "hovermode": "closest",
          "mapbox": {
           "style": "light"
          },
          "paper_bgcolor": "white",
          "plot_bgcolor": "#E5ECF6",
          "polar": {
           "angularaxis": {
            "gridcolor": "white",
            "linecolor": "white",
            "ticks": ""
           },
           "bgcolor": "#E5ECF6",
           "radialaxis": {
            "gridcolor": "white",
            "linecolor": "white",
            "ticks": ""
           }
          },
          "scene": {
           "xaxis": {
            "backgroundcolor": "#E5ECF6",
            "gridcolor": "white",
            "gridwidth": 2,
            "linecolor": "white",
            "showbackground": true,
            "ticks": "",
            "zerolinecolor": "white"
           },
           "yaxis": {
            "backgroundcolor": "#E5ECF6",
            "gridcolor": "white",
            "gridwidth": 2,
            "linecolor": "white",
            "showbackground": true,
            "ticks": "",
            "zerolinecolor": "white"
           },
           "zaxis": {
            "backgroundcolor": "#E5ECF6",
            "gridcolor": "white",
            "gridwidth": 2,
            "linecolor": "white",
            "showbackground": true,
            "ticks": "",
            "zerolinecolor": "white"
           }
          },
          "shapedefaults": {
           "line": {
            "color": "#2a3f5f"
           }
          },
          "ternary": {
           "aaxis": {
            "gridcolor": "white",
            "linecolor": "white",
            "ticks": ""
           },
           "baxis": {
            "gridcolor": "white",
            "linecolor": "white",
            "ticks": ""
           },
           "bgcolor": "#E5ECF6",
           "caxis": {
            "gridcolor": "white",
            "linecolor": "white",
            "ticks": ""
           }
          },
          "title": {
           "x": 0.05
          },
          "xaxis": {
           "automargin": true,
           "gridcolor": "white",
           "linecolor": "white",
           "ticks": "",
           "title": {
            "standoff": 15
           },
           "zerolinecolor": "white",
           "zerolinewidth": 2
          },
          "yaxis": {
           "automargin": true,
           "gridcolor": "white",
           "linecolor": "white",
           "ticks": "",
           "title": {
            "standoff": 15
           },
           "zerolinecolor": "white",
           "zerolinewidth": 2
          }
         }
        },
        "title": {
         "text": "Evolución de la Proporción de Fraudes a lo Largo del Tiempo"
        },
        "xaxis": {
         "anchor": "y",
         "domain": [
          0,
          1
         ],
         "title": {
          "text": "Fecha"
         }
        },
        "yaxis": {
         "anchor": "x",
         "domain": [
          0,
          1
         ],
         "title": {
          "text": "Proporción de Fraudes"
         }
        }
       }
      }
     },
     "metadata": {},
     "output_type": "display_data"
    }
   ],
   "source": [
    "df['date'] = df['TransactionDT'].dt.date\n",
    "\n",
    "grouped = df.groupby('date').agg(\n",
    "    total_transactions=pd.NamedAgg(column='isFraud', aggfunc='count'),\n",
    "    fraudulent_transactions=pd.NamedAgg(column='isFraud', aggfunc='sum')\n",
    ")\n",
    "\n",
    "grouped['fraudulent_proportion'] = grouped['fraudulent_transactions'] / grouped['total_transactions']\n",
    "\n",
    "# Graficar la evolución de la proporción de fraudes a lo largo del tiempo\n",
    "fig = px.line(grouped.reset_index(), x='date', y='fraudulent_proportion', \n",
    "              title='Evolución de la Proporción de Fraudes a lo Largo del Tiempo',\n",
    "              labels={'date': 'Fecha', 'fraudulent_proportion': 'Proporción de Fraudes'},\n",
    "              markers=True)\n",
    "\n",
    "fig.show()"
   ]
  },
  {
   "cell_type": "markdown",
   "metadata": {},
   "source": [
    "Aparentemente no se aprecia una tendencia entre dias ni una estacionalidad marcada, se observa ciertos picos de transacciones fraudulentas, sin embargo no parece haber un cambio de media y de varianza a lo largo de el dataset."
   ]
  },
  {
   "cell_type": "code",
   "execution_count": 21,
   "metadata": {},
   "outputs": [
    {
     "data": {
      "text/plain": [
       "total_transactions         2754.00000\n",
       "fraudulent_transactions     119.00000\n",
       "fraudulent_proportion         0.04321\n",
       "Name: 2024-07-01, dtype: float64"
      ]
     },
     "execution_count": 21,
     "metadata": {},
     "output_type": "execute_result"
    }
   ],
   "source": [
    "grouped.iloc[181,:]"
   ]
  },
  {
   "cell_type": "code",
   "execution_count": 22,
   "metadata": {},
   "outputs": [
    {
     "data": {
      "image/png": "[encoded data removed]",
      "text/plain": [
       "<Figure size 640x480 with 4 Axes>"
      ]
     },
     "metadata": {},
     "output_type": "display_data"
    }
   ],
   "source": [
    "res = sm.tsa.seasonal_decompose(grouped['fraudulent_proportion'], period=7,model=\"additive\")\n",
    "\n",
    "# Graficar los componentes de la descomposición\n",
    "res.plot()\n",
    "plt.show()"
   ]
  },
  {
   "cell_type": "markdown",
   "metadata": {},
   "source": [
    "hay una clara estacionalidad con respecto a que dia de la semana se realiza la transaccion, adicionalmente se cuenta con un crecimiento al principio de los datos que despues se mantiene un poco constante a lo largo del resto de dias del dataset.\n",
    "Por otro lado podemos observar que se logra capturar un buen patron debido a que los residuos se comportan aleatoriamente al rededor de una media y varianza."
   ]
  },
  {
   "cell_type": "code",
   "execution_count": 23,
   "metadata": {},
   "outputs": [
    {
     "data": {
      "image/png": "[encoded data removed]",
      "text/plain": [
       "<Figure size 640x480 with 1 Axes>"
      ]
     },
     "metadata": {},
     "output_type": "display_data"
    }
   ],
   "source": [
    "sm.graphics.tsa.plot_acf(grouped['fraudulent_proportion'], lags=15)\n",
    "plt.show()"
   ]
  },
  {
   "cell_type": "markdown",
   "metadata": {},
   "source": [
    "Al realizar la prueba de autocorrelacion podemos notar que hay un indicio de autocorrelacion cada 8 dias, lo que corresponderia al mismo dia de la semana anterior."
   ]
  },
  {
   "cell_type": "markdown",
   "metadata": {},
   "source": [
    "Como conslusion del analisis de los datos como serie de tiempo se puede confirmar que la hora del dia en el que se realiza la transaccion y el dia de la semana de dicha transaccion son datos relevantes para la prediccion de si una transaccion es fraudulenta o no."
   ]
  },
  {
   "cell_type": "code",
   "execution_count": 24,
   "metadata": {},
   "outputs": [],
   "source": [
    "df['dia_semana'] = df['TransactionDT'].dt.weekday"
   ]
  },
  {
   "cell_type": "code",
   "execution_count": 25,
   "metadata": {},
   "outputs": [],
   "source": [
    "grouped = df.groupby(['dia_semana',\"date\"]).agg(\n",
    "    total_transactions=pd.NamedAgg(column='isFraud', aggfunc='count'),\n",
    "    fraudulent_transactions=pd.NamedAgg(column='isFraud', aggfunc='sum')\n",
    ")\n",
    "grouped['fraudulent_proportion'] = grouped['fraudulent_transactions'] / grouped['total_transactions']\n"
   ]
  },
  {
   "cell_type": "code",
   "execution_count": 26,
   "metadata": {},
   "outputs": [
    {
     "data": {
      "application/vnd.plotly.v1+json": {
       "config": {
        "plotlyServerURL": "https://plot.ly"
       },
       "data": [
        {
         "alignmentgroup": "True",
         "hovertemplate": "dia_semana=%{x}<br>Proporción de Fraudes=%{y}<extra></extra>",
         "legendgroup": "",
         "marker": {
          "color": "#636efa"
         },
         "name": "",
         "notched": false,
         "offsetgroup": "",
         "orientation": "v",
         "showlegend": false,
         "type": "box",
         "x": [
          0,
          0,
          0,
          0,
          0,
          0,
          0,
          0,
          0,
          0,
          0,
          0,
          0,
          0,
          0,
          0,
          0,
          0,
          0,
          0,
          0,
          0,
          0,
          0,
          0,
          0,
          1,
          1,
          1,
          1,
          1,
          1,
          1,
          1,
          1,
          1,
          1,
          1,
          1,
          1,
          1,
          1,
          1,
          1,
          1,
          1,
          1,
          1,
          1,
          1,
          1,
          1,
          2,
          2,
          2,
          2,
          2,
          2,
          2,
          2,
          2,
          2,
          2,
          2,
          2,
          2,
          2,
          2,
          2,
          2,
          2,
          2,
          2,
          2,
          2,
          2,
          2,
          2,
          3,
          3,
          3,
          3,
          3,
          3,
          3,
          3,
          3,
          3,
          3,
          3,
          3,
          3,
          3,
          3,
          3,
          3,
          3,
          3,
          3,
          3,
          3,
          3,
          3,
          3,
          4,
          4,
          4,
          4,
          4,
          4,
          4,
          4,
          4,
          4,
          4,
          4,
          4,
          4,
          4,
          4,
          4,
          4,
          4,
          4,
          4,
          4,
          4,
          4,
          4,
          4,
          5,
          5,
          5,
          5,
          5,
          5,
          5,
          5,
          5,
          5,
          5,
          5,
          5,
          5,
          5,
          5,
          5,
          5,
          5,
          5,
          5,
          5,
          5,
          5,
          5,
          5,
          6,
          6,
          6,
          6,
          6,
          6,
          6,
          6,
          6,
          6,
          6,
          6,
          6,
          6,
          6,
          6,
          6,
          6,
          6,
          6,
          6,
          6,
          6,
          6,
          6,
          6
         ],
         "x0": " ",
         "xaxis": "x",
         "y": [
          0.03592181722134179,
          0.02834008097165992,
          0.020433327461687512,
          0.045018007202881155,
          0.031331592689295036,
          0.02950364456785838,
          0.03963314772355061,
          0.05665112943707422,
          0.041006289308176104,
          0.049776862341228974,
          0.041583499667332005,
          0.03462686567164179,
          0.04492138757174944,
          0.03518821603927987,
          0.043506921555702044,
          0.04310077519379845,
          0.04393939393939394,
          0.03343166175024582,
          0.05061406773353182,
          0.03917839482693039,
          0.029065489330389993,
          0.024848004229447527,
          0.023826208829712685,
          0.03934871099050204,
          0.04025344763324636,
          0.043209876543209874,
          0.021866458414681766,
          0.023255813953488372,
          0.02840683353198252,
          0.021453590192644482,
          0.0299860529986053,
          0.03780453654438533,
          0.044370493621741544,
          0.05245803357314149,
          0.03329260843005498,
          0.054204308547602505,
          0.04652586470768289,
          0.03158559696778269,
          0.052322327923894796,
          0.023512476007677544,
          0.03180854286579824,
          0.04719031356721515,
          0.049891540130151846,
          0.04592742958639939,
          0.025187406296851574,
          0.035069799114742936,
          0.043666666666666666,
          0.028104575163398694,
          0.035501193317422436,
          0.03526136715125271,
          0.04575368223127546,
          0.04782321899736148,
          0.032975871313672925,
          0.030458152034809317,
          0.016184971098265895,
          0.018051771117166212,
          0.04687036487689113,
          0.041584158415841586,
          0.04271356783919598,
          0.052370842179759375,
          0.03804550540842969,
          0.05702711124961047,
          0.034256559766763846,
          0.04203869047619048,
          0.04697482149567832,
          0.033377541998231654,
          0.0327653997378768,
          0.04521181915272339,
          0.05438723712835388,
          0.04010606562810739,
          0.027522935779816515,
          0.03705228489090161,
          0.04307820995399415,
          0.028833551769331587,
          0.020970873786407766,
          0.04722222222222222,
          0.04192611041926111,
          0.0461082910321489,
          0.028386300524529465,
          0.026124818577648767,
          0.033114323258869906,
          0.012530915086562242,
          0.0499664654594232,
          0.04323899371069182,
          0.043478260869565216,
          0.0488641234462066,
          0.06994171523730225,
          0.03289473684210526,
          0.05859375,
          0.029945553539019964,
          0.03883876029815614,
          0.027635619242579325,
          0.0272,
          0.04197638828159161,
          0.056481105241771634,
          0.025528520143597924,
          0.05536626916524702,
          0.03564453125,
          0.03439922480620155,
          0.03123585332729742,
          0.03054448871181939,
          0.025769745649263723,
          0.024329159212880144,
          0.0425531914893617,
          0.028493557978196235,
          0.02847881454040287,
          0.0288272157564906,
          0.0109717868338558,
          0.0213657310431504,
          0.038780245276765,
          0.04199569274946159,
          0.027166437414030263,
          0.036834924965893585,
          0.03723239218119764,
          0.03843689942344651,
          0.03667481662591687,
          0.024826216484607744,
          0.04042037186742118,
          0.03316487681617183,
          0.04220882259600127,
          0.05239472838315654,
          0.03775811209439528,
          0.033843961524759526,
          0.02367879203843514,
          0.033112582781456956,
          0.03192518542405676,
          0.0265748031496063,
          0.02402896642527979,
          0.025632911392405065,
          0.03031694993109784,
          0.03203834510595358,
          0.020172910662824207,
          0.021353601158161418,
          0.02371312897628687,
          0.03614457831325301,
          0.03740562800274537,
          0.030629417704476608,
          0.040028591851322376,
          0.03600128576020572,
          0.035148828372387586,
          0.03601833660772757,
          0.03198653198653199,
          0.035337879727216366,
          0.028060437866173297,
          0.03128023218316672,
          0.03876739562624255,
          0.06377383300460224,
          0.021180390290337935,
          0.03720765414599575,
          0.03935347856640899,
          0.025112443778110945,
          0.030800821355236138,
          0.031282952548330405,
          0.03207096554077107,
          0.04954640614096301,
          0.0374331550802139,
          0.026634382566585957,
          0.01960315562993067,
          0.02348234475560967,
          0.02789400278940028,
          0.037288930581613505,
          0.04085077650236327,
          0.03755715218811234,
          0.02742692168892097,
          0.053974484789008834,
          0.03769968051118211,
          0.041666666666666664,
          0.027607361963190184,
          0.0393677303906949,
          0.043520309477756286,
          0.03563402889245586,
          0.03207547169811321,
          0.03680402642340359,
          0.04268820305739833,
          0.03924418604651163,
          0.022029613578909354,
          0.03277591973244147,
          0.04057971014492753,
          0.029534398888116747,
          0.03940397350993378,
          0.030666196686640817,
          0.04454180357794816
         ],
         "y0": " ",
         "yaxis": "y"
        }
       ],
       "layout": {
        "boxmode": "group",
        "legend": {
         "tracegroupgap": 0
        },
        "template": {
         "data": {
          "bar": [
           {
            "error_x": {
             "color": "#2a3f5f"
            },
            "error_y": {
             "color": "#2a3f5f"
            },
            "marker": {
             "line": {
              "color": "#E5ECF6",
              "width": 0.5
             },
             "pattern": {
              "fillmode": "overlay",
              "size": 10,
              "solidity": 0.2
             }
            },
            "type": "bar"
           }
          ],
          "barpolar": [
           {
            "marker": {
             "line": {
              "color": "#E5ECF6",
              "width": 0.5
             },
             "pattern": {
              "fillmode": "overlay",
              "size": 10,
              "solidity": 0.2
             }
            },
            "type": "barpolar"
           }
          ],
          "carpet": [
           {
            "aaxis": {
             "endlinecolor": "#2a3f5f",
             "gridcolor": "white",
             "linecolor": "white",
             "minorgridcolor": "white",
             "startlinecolor": "#2a3f5f"
            },
            "baxis": {
             "endlinecolor": "#2a3f5f",
             "gridcolor": "white",
             "linecolor": "white",
             "minorgridcolor": "white",
             "startlinecolor": "#2a3f5f"
            },
            "type": "carpet"
           }
          ],
          "choropleth": [
           {
            "colorbar": {
             "outlinewidth": 0,
             "ticks": ""
            },
            "type": "choropleth"
           }
          ],
          "contour": [
           {
            "colorbar": {
             "outlinewidth": 0,
             "ticks": ""
            },
            "colorscale": [
             [
              0,
              "#0d0887"
             ],
             [
              0.1111111111111111,
              "#46039f"
             ],
             [
              0.2222222222222222,
              "#7201a8"
             ],
             [
              0.3333333333333333,
              "#9c179e"
             ],
             [
              0.4444444444444444,
              "#bd3786"
             ],
             [
              0.5555555555555556,
              "#d8576b"
             ],
             [
              0.6666666666666666,
              "#ed7953"
             ],
             [
              0.7777777777777778,
              "#fb9f3a"
             ],
             [
              0.8888888888888888,
              "#fdca26"
             ],
             [
              1,
              "#f0f921"
             ]
            ],
            "type": "contour"
           }
          ],
          "contourcarpet": [
           {
            "colorbar": {
             "outlinewidth": 0,
             "ticks": ""
            },
            "type": "contourcarpet"
           }
          ],
          "heatmap": [
           {
            "colorbar": {
             "outlinewidth": 0,
             "ticks": ""
            },
            "colorscale": [
             [
              0,
              "#0d0887"
             ],
             [
              0.1111111111111111,
              "#46039f"
             ],
             [
              0.2222222222222222,
              "#7201a8"
             ],
             [
              0.3333333333333333,
              "#9c179e"
             ],
             [
              0.4444444444444444,
              "#bd3786"
             ],
             [
              0.5555555555555556,
              "#d8576b"
             ],
             [
              0.6666666666666666,
              "#ed7953"
             ],
             [
              0.7777777777777778,
              "#fb9f3a"
             ],
             [
              0.8888888888888888,
              "#fdca26"
             ],
             [
              1,
              "#f0f921"
             ]
            ],
            "type": "heatmap"
           }
          ],
          "heatmapgl": [
           {
            "colorbar": {
             "outlinewidth": 0,
             "ticks": ""
            },
            "colorscale": [
             [
              0,
              "#0d0887"
             ],
             [
              0.1111111111111111,
              "#46039f"
             ],
             [
              0.2222222222222222,
              "#7201a8"
             ],
             [
              0.3333333333333333,
              "#9c179e"
             ],
             [
              0.4444444444444444,
              "#bd3786"
             ],
             [
              0.5555555555555556,
              "#d8576b"
             ],
             [
              0.6666666666666666,
              "#ed7953"
             ],
             [
              0.7777777777777778,
              "#fb9f3a"
             ],
             [
              0.8888888888888888,
              "#fdca26"
             ],
             [
              1,
              "#f0f921"
             ]
            ],
            "type": "heatmapgl"
           }
          ],
          "histogram": [
           {
            "marker": {
             "pattern": {
              "fillmode": "overlay",
              "size": 10,
              "solidity": 0.2
             }
            },
            "type": "histogram"
           }
          ],
          "histogram2d": [
           {
            "colorbar": {
             "outlinewidth": 0,
             "ticks": ""
            },
            "colorscale": [
             [
              0,
              "#0d0887"
             ],
             [
              0.1111111111111111,
              "#46039f"
             ],
             [
              0.2222222222222222,
              "#7201a8"
             ],
             [
              0.3333333333333333,
              "#9c179e"
             ],
             [
              0.4444444444444444,
              "#bd3786"
             ],
             [
              0.5555555555555556,
              "#d8576b"
             ],
             [
              0.6666666666666666,
              "#ed7953"
             ],
             [
              0.7777777777777778,
              "#fb9f3a"
             ],
             [
              0.8888888888888888,
              "#fdca26"
             ],
             [
              1,
              "#f0f921"
             ]
            ],
            "type": "histogram2d"
           }
          ],
          "histogram2dcontour": [
           {
            "colorbar": {
             "outlinewidth": 0,
             "ticks": ""
            },
            "colorscale": [
             [
              0,
              "#0d0887"
             ],
             [
              0.1111111111111111,
              "#46039f"
             ],
             [
              0.2222222222222222,
              "#7201a8"
             ],
             [
              0.3333333333333333,
              "#9c179e"
             ],
             [
              0.4444444444444444,
              "#bd3786"
             ],
             [
              0.5555555555555556,
              "#d8576b"
             ],
             [
              0.6666666666666666,
              "#ed7953"
             ],
             [
              0.7777777777777778,
              "#fb9f3a"
             ],
             [
              0.8888888888888888,
              "#fdca26"
             ],
             [
              1,
              "#f0f921"
             ]
            ],
            "type": "histogram2dcontour"
           }
          ],
          "mesh3d": [
           {
            "colorbar": {
             "outlinewidth": 0,
             "ticks": ""
            },
            "type": "mesh3d"
           }
          ],
          "parcoords": [
           {
            "line": {
             "colorbar": {
              "outlinewidth": 0,
              "ticks": ""
             }
            },
            "type": "parcoords"
           }
          ],
          "pie": [
           {
            "automargin": true,
            "type": "pie"
           }
          ],
          "scatter": [
           {
            "fillpattern": {
             "fillmode": "overlay",
             "size": 10,
             "solidity": 0.2
            },
            "type": "scatter"
           }
          ],
          "scatter3d": [
           {
            "line": {
             "colorbar": {
              "outlinewidth": 0,
              "ticks": ""
             }
            },
            "marker": {
             "colorbar": {
              "outlinewidth": 0,
              "ticks": ""
             }
            },
            "type": "scatter3d"
           }
          ],
          "scattercarpet": [
           {
            "marker": {
             "colorbar": {
              "outlinewidth": 0,
              "ticks": ""
             }
            },
            "type": "scattercarpet"
           }
          ],
          "scattergeo": [
           {
            "marker": {
             "colorbar": {
              "outlinewidth": 0,
              "ticks": ""
             }
            },
            "type": "scattergeo"
           }
          ],
          "scattergl": [
           {
            "marker": {
             "colorbar": {
              "outlinewidth": 0,
              "ticks": ""
             }
            },
            "type": "scattergl"
           }
          ],
          "scattermapbox": [
           {
            "marker": {
             "colorbar": {
              "outlinewidth": 0,
              "ticks": ""
             }
            },
            "type": "scattermapbox"
           }
          ],
          "scatterpolar": [
           {
            "marker": {
             "colorbar": {
              "outlinewidth": 0,
              "ticks": ""
             }
            },
            "type": "scatterpolar"
           }
          ],
          "scatterpolargl": [
           {
            "marker": {
             "colorbar": {
              "outlinewidth": 0,
              "ticks": ""
             }
            },
            "type": "scatterpolargl"
           }
          ],
          "scatterternary": [
           {
            "marker": {
             "colorbar": {
              "outlinewidth": 0,
              "ticks": ""
             }
            },
            "type": "scatterternary"
           }
          ],
          "surface": [
           {
            "colorbar": {
             "outlinewidth": 0,
             "ticks": ""
            },
            "colorscale": [
             [
              0,
              "#0d0887"
             ],
             [
              0.1111111111111111,
              "#46039f"
             ],
             [
              0.2222222222222222,
              "#7201a8"
             ],
             [
              0.3333333333333333,
              "#9c179e"
             ],
             [
              0.4444444444444444,
              "#bd3786"
             ],
             [
              0.5555555555555556,
              "#d8576b"
             ],
             [
              0.6666666666666666,
              "#ed7953"
             ],
             [
              0.7777777777777778,
              "#fb9f3a"
             ],
             [
              0.8888888888888888,
              "#fdca26"
             ],
             [
              1,
              "#f0f921"
             ]
            ],
            "type": "surface"
           }
          ],
          "table": [
           {
            "cells": {
             "fill": {
              "color": "#EBF0F8"
             },
             "line": {
              "color": "white"
             }
            },
            "header": {
             "fill": {
              "color": "#C8D4E3"
             },
             "line": {
              "color": "white"
             }
            },
            "type": "table"
           }
          ]
         },
         "layout": {
          "annotationdefaults": {
           "arrowcolor": "#2a3f5f",
           "arrowhead": 0,
           "arrowwidth": 1
          },
          "autotypenumbers": "strict",
          "coloraxis": {
           "colorbar": {
            "outlinewidth": 0,
            "ticks": ""
           }
          },
          "colorscale": {
           "diverging": [
            [
             0,
             "#8e0152"
            ],
            [
             0.1,
             "#c51b7d"
            ],
            [
             0.2,
             "#de77ae"
            ],
            [
             0.3,
             "#f1b6da"
            ],
            [
             0.4,
             "#fde0ef"
            ],
            [
             0.5,
             "#f7f7f7"
            ],
            [
             0.6,
             "#e6f5d0"
            ],
            [
             0.7,
             "#b8e186"
            ],
            [
             0.8,
             "#7fbc41"
            ],
            [
             0.9,
             "#4d9221"
            ],
            [
             1,
             "#276419"
            ]
           ],
           "sequential": [
            [
             0,
             "#0d0887"
            ],
            [
             0.1111111111111111,
             "#46039f"
            ],
            [
             0.2222222222222222,
             "#7201a8"
            ],
            [
             0.3333333333333333,
             "#9c179e"
            ],
            [
             0.4444444444444444,
             "#bd3786"
            ],
            [
             0.5555555555555556,
             "#d8576b"
            ],
            [
             0.6666666666666666,
             "#ed7953"
            ],
            [
             0.7777777777777778,
             "#fb9f3a"
            ],
            [
             0.8888888888888888,
             "#fdca26"
            ],
            [
             1,
             "#f0f921"
            ]
           ],
           "sequentialminus": [
            [
             0,
             "#0d0887"
            ],
            [
             0.1111111111111111,
             "#46039f"
            ],
            [
             0.2222222222222222,
             "#7201a8"
            ],
            [
             0.3333333333333333,
             "#9c179e"
            ],
            [
             0.4444444444444444,
             "#bd3786"
            ],
            [
             0.5555555555555556,
             "#d8576b"
            ],
            [
             0.6666666666666666,
             "#ed7953"
            ],
            [
             0.7777777777777778,
             "#fb9f3a"
            ],
            [
             0.8888888888888888,
             "#fdca26"
            ],
            [
             1,
             "#f0f921"
            ]
           ]
          },
          "colorway": [
           "#636efa",
           "#EF553B",
           "#00cc96",
           "#ab63fa",
           "#FFA15A",
           "#19d3f3",
           "#FF6692",
           "#B6E880",
           "#FF97FF",
           "#FECB52"
          ],
          "font": {
           "color": "#2a3f5f"
          },
          "geo": {
           "bgcolor": "white",
           "lakecolor": "white",
           "landcolor": "#E5ECF6",
           "showlakes": true,
           "showland": true,
           "subunitcolor": "white"
          },
          "hoverlabel": {
           "align": "left"
          },
          "hovermode": "closest",
          "mapbox": {
           "style": "light"
          },
          "paper_bgcolor": "white",
          "plot_bgcolor": "#E5ECF6",
          "polar": {
           "angularaxis": {
            "gridcolor": "white",
            "linecolor": "white",
            "ticks": ""
           },
           "bgcolor": "#E5ECF6",
           "radialaxis": {
            "gridcolor": "white",
            "linecolor": "white",
            "ticks": ""
           }
          },
          "scene": {
           "xaxis": {
            "backgroundcolor": "#E5ECF6",
            "gridcolor": "white",
            "gridwidth": 2,
            "linecolor": "white",
            "showbackground": true,
            "ticks": "",
            "zerolinecolor": "white"
           },
           "yaxis": {
            "backgroundcolor": "#E5ECF6",
            "gridcolor": "white",
            "gridwidth": 2,
            "linecolor": "white",
            "showbackground": true,
            "ticks": "",
            "zerolinecolor": "white"
           },
           "zaxis": {
            "backgroundcolor": "#E5ECF6",
            "gridcolor": "white",
            "gridwidth": 2,
            "linecolor": "white",
            "showbackground": true,
            "ticks": "",
            "zerolinecolor": "white"
           }
          },
          "shapedefaults": {
           "line": {
            "color": "#2a3f5f"
           }
          },
          "ternary": {
           "aaxis": {
            "gridcolor": "white",
            "linecolor": "white",
            "ticks": ""
           },
           "baxis": {
            "gridcolor": "white",
            "linecolor": "white",
            "ticks": ""
           },
           "bgcolor": "#E5ECF6",
           "caxis": {
            "gridcolor": "white",
            "linecolor": "white",
            "ticks": ""
           }
          },
          "title": {
           "x": 0.05
          },
          "xaxis": {
           "automargin": true,
           "gridcolor": "white",
           "linecolor": "white",
           "ticks": "",
           "title": {
            "standoff": 15
           },
           "zerolinecolor": "white",
           "zerolinewidth": 2
          },
          "yaxis": {
           "automargin": true,
           "gridcolor": "white",
           "linecolor": "white",
           "ticks": "",
           "title": {
            "standoff": 15
           },
           "zerolinecolor": "white",
           "zerolinewidth": 2
          }
         }
        },
        "title": {
         "text": "Proporción de Fraudes por Día de la Semana"
        },
        "xaxis": {
         "anchor": "y",
         "domain": [
          0,
          1
         ],
         "title": {
          "text": "dia_semana"
         }
        },
        "yaxis": {
         "anchor": "x",
         "domain": [
          0,
          1
         ],
         "title": {
          "text": "Proporción de Fraudes"
         }
        }
       }
      }
     },
     "metadata": {},
     "output_type": "display_data"
    }
   ],
   "source": [
    "fig = px.box(grouped.reset_index(), x='dia_semana', y='fraudulent_proportion',\n",
    "             title='Proporción de Fraudes por Día de la Semana',\n",
    "             labels={'dia_de_la_semana': 'Día de la Semana', 'fraudulent_proportion': 'Proporción de Fraudes'})\n",
    "\n",
    "fig.show()"
   ]
  },
  {
   "cell_type": "markdown",
   "metadata": {},
   "source": [
    "Se encuentra que existe patrones de comportamiento de proporcion de fraudes distintos para cada dia.\n"
   ]
  },
  {
   "cell_type": "code",
   "execution_count": 27,
   "metadata": {},
   "outputs": [
    {
     "data": {
      "text/plain": [
       "590540"
      ]
     },
     "execution_count": 27,
     "metadata": {},
     "output_type": "execute_result"
    }
   ],
   "source": [
    "len(df)"
   ]
  },
  {
   "cell_type": "markdown",
   "metadata": {},
   "source": [
    "## Datos faltantes\n"
   ]
  },
  {
   "cell_type": "code",
   "execution_count": 29,
   "metadata": {},
   "outputs": [
    {
     "data": {
      "text/html": [
       "<div>\n",
       "<style scoped>\n",
       "    .dataframe tbody tr th:only-of-type {\n",
       "        vertical-align: middle;\n",
       "    }\n",
       "\n",
       "    .dataframe tbody tr th {\n",
       "        vertical-align: top;\n",
       "    }\n",
       "\n",
       "    .dataframe thead th {\n",
       "        text-align: right;\n",
       "    }\n",
       "</style>\n",
       "<table border=\"1\" class=\"dataframe\">\n",
       "  <thead>\n",
       "    <tr style=\"text-align: right;\">\n",
       "      <th></th>\n",
       "      <th>TransactionID</th>\n",
       "      <th>TransactionDT</th>\n",
       "      <th>TransactionAmt</th>\n",
       "      <th>C3</th>\n",
       "      <th>C5</th>\n",
       "      <th>card6</th>\n",
       "      <th>isFraud</th>\n",
       "      <th>card3</th>\n",
       "      <th>card2</th>\n",
       "      <th>Entity</th>\n",
       "      <th>hora_dia</th>\n",
       "      <th>date</th>\n",
       "      <th>dia_semana</th>\n",
       "    </tr>\n",
       "  </thead>\n",
       "  <tbody>\n",
       "    <tr>\n",
       "      <th>0</th>\n",
       "      <td>2987000</td>\n",
       "      <td>2024-01-02 00:00:00</td>\n",
       "      <td>68.5</td>\n",
       "      <td>0.0</td>\n",
       "      <td>0.0</td>\n",
       "      <td>True</td>\n",
       "      <td>False</td>\n",
       "      <td>150.0</td>\n",
       "      <td>NaN</td>\n",
       "      <td>Disc</td>\n",
       "      <td>0</td>\n",
       "      <td>2024-01-02</td>\n",
       "      <td>1</td>\n",
       "    </tr>\n",
       "    <tr>\n",
       "      <th>1</th>\n",
       "      <td>2987001</td>\n",
       "      <td>2024-01-02 00:00:01</td>\n",
       "      <td>29.0</td>\n",
       "      <td>0.0</td>\n",
       "      <td>0.0</td>\n",
       "      <td>True</td>\n",
       "      <td>False</td>\n",
       "      <td>150.0</td>\n",
       "      <td>404.0</td>\n",
       "      <td>MastC</td>\n",
       "      <td>0</td>\n",
       "      <td>2024-01-02</td>\n",
       "      <td>1</td>\n",
       "    </tr>\n",
       "    <tr>\n",
       "      <th>2</th>\n",
       "      <td>2987002</td>\n",
       "      <td>2024-01-02 00:01:09</td>\n",
       "      <td>59.0</td>\n",
       "      <td>0.0</td>\n",
       "      <td>0.0</td>\n",
       "      <td>False</td>\n",
       "      <td>False</td>\n",
       "      <td>150.0</td>\n",
       "      <td>490.0</td>\n",
       "      <td>Visa</td>\n",
       "      <td>0</td>\n",
       "      <td>2024-01-02</td>\n",
       "      <td>1</td>\n",
       "    </tr>\n",
       "    <tr>\n",
       "      <th>3</th>\n",
       "      <td>2987003</td>\n",
       "      <td>2024-01-02 00:01:39</td>\n",
       "      <td>50.0</td>\n",
       "      <td>0.0</td>\n",
       "      <td>0.0</td>\n",
       "      <td>False</td>\n",
       "      <td>False</td>\n",
       "      <td>150.0</td>\n",
       "      <td>567.0</td>\n",
       "      <td>MastC</td>\n",
       "      <td>0</td>\n",
       "      <td>2024-01-02</td>\n",
       "      <td>1</td>\n",
       "    </tr>\n",
       "    <tr>\n",
       "      <th>4</th>\n",
       "      <td>2987004</td>\n",
       "      <td>2024-01-02 00:01:46</td>\n",
       "      <td>50.0</td>\n",
       "      <td>0.0</td>\n",
       "      <td>0.0</td>\n",
       "      <td>True</td>\n",
       "      <td>False</td>\n",
       "      <td>150.0</td>\n",
       "      <td>514.0</td>\n",
       "      <td>MastC</td>\n",
       "      <td>0</td>\n",
       "      <td>2024-01-02</td>\n",
       "      <td>1</td>\n",
       "    </tr>\n",
       "  </tbody>\n",
       "</table>\n",
       "</div>"
      ],
      "text/plain": [
       "   TransactionID       TransactionDT  TransactionAmt   C3   C5  card6  \\\n",
       "0        2987000 2024-01-02 00:00:00            68.5  0.0  0.0   True   \n",
       "1        2987001 2024-01-02 00:00:01            29.0  0.0  0.0   True   \n",
       "2        2987002 2024-01-02 00:01:09            59.0  0.0  0.0  False   \n",
       "3        2987003 2024-01-02 00:01:39            50.0  0.0  0.0  False   \n",
       "4        2987004 2024-01-02 00:01:46            50.0  0.0  0.0   True   \n",
       "\n",
       "   isFraud  card3  card2 Entity  hora_dia        date  dia_semana  \n",
       "0    False  150.0    NaN   Disc         0  2024-01-02           1  \n",
       "1    False  150.0  404.0  MastC         0  2024-01-02           1  \n",
       "2    False  150.0  490.0   Visa         0  2024-01-02           1  \n",
       "3    False  150.0  567.0  MastC         0  2024-01-02           1  \n",
       "4    False  150.0  514.0  MastC         0  2024-01-02           1  "
      ]
     },
     "execution_count": 29,
     "metadata": {},
     "output_type": "execute_result"
    }
   ],
   "source": [
    "df.head()"
   ]
  },
  {
   "cell_type": "markdown",
   "metadata": {},
   "source": [
    "Dado que ya se extrajo la mayor cantidad de informacion util de la columna \"TransactionDT\", se eliminara. Por otro lado el Id de la transaccion tambien sera removida debido a que no aporta nada para predecir."
   ]
  },
  {
   "cell_type": "code",
   "execution_count": 31,
   "metadata": {},
   "outputs": [
    {
     "data": {
      "text/html": [
       "<div>\n",
       "<style scoped>\n",
       "    .dataframe tbody tr th:only-of-type {\n",
       "        vertical-align: middle;\n",
       "    }\n",
       "\n",
       "    .dataframe tbody tr th {\n",
       "        vertical-align: top;\n",
       "    }\n",
       "\n",
       "    .dataframe thead th {\n",
       "        text-align: right;\n",
       "    }\n",
       "</style>\n",
       "<table border=\"1\" class=\"dataframe\">\n",
       "  <thead>\n",
       "    <tr style=\"text-align: right;\">\n",
       "      <th></th>\n",
       "      <th>TransactionAmt</th>\n",
       "      <th>C3</th>\n",
       "      <th>C5</th>\n",
       "      <th>card6</th>\n",
       "      <th>isFraud</th>\n",
       "      <th>card3</th>\n",
       "      <th>card2</th>\n",
       "      <th>Entity</th>\n",
       "      <th>hora_dia</th>\n",
       "      <th>date</th>\n",
       "      <th>dia_semana</th>\n",
       "    </tr>\n",
       "  </thead>\n",
       "  <tbody>\n",
       "    <tr>\n",
       "      <th>0</th>\n",
       "      <td>68.5</td>\n",
       "      <td>0.0</td>\n",
       "      <td>0.0</td>\n",
       "      <td>True</td>\n",
       "      <td>False</td>\n",
       "      <td>150.0</td>\n",
       "      <td>NaN</td>\n",
       "      <td>Disc</td>\n",
       "      <td>0</td>\n",
       "      <td>2024-01-02</td>\n",
       "      <td>1</td>\n",
       "    </tr>\n",
       "    <tr>\n",
       "      <th>1</th>\n",
       "      <td>29.0</td>\n",
       "      <td>0.0</td>\n",
       "      <td>0.0</td>\n",
       "      <td>True</td>\n",
       "      <td>False</td>\n",
       "      <td>150.0</td>\n",
       "      <td>404.0</td>\n",
       "      <td>MastC</td>\n",
       "      <td>0</td>\n",
       "      <td>2024-01-02</td>\n",
       "      <td>1</td>\n",
       "    </tr>\n",
       "    <tr>\n",
       "      <th>2</th>\n",
       "      <td>59.0</td>\n",
       "      <td>0.0</td>\n",
       "      <td>0.0</td>\n",
       "      <td>False</td>\n",
       "      <td>False</td>\n",
       "      <td>150.0</td>\n",
       "      <td>490.0</td>\n",
       "      <td>Visa</td>\n",
       "      <td>0</td>\n",
       "      <td>2024-01-02</td>\n",
       "      <td>1</td>\n",
       "    </tr>\n",
       "    <tr>\n",
       "      <th>3</th>\n",
       "      <td>50.0</td>\n",
       "      <td>0.0</td>\n",
       "      <td>0.0</td>\n",
       "      <td>False</td>\n",
       "      <td>False</td>\n",
       "      <td>150.0</td>\n",
       "      <td>567.0</td>\n",
       "      <td>MastC</td>\n",
       "      <td>0</td>\n",
       "      <td>2024-01-02</td>\n",
       "      <td>1</td>\n",
       "    </tr>\n",
       "    <tr>\n",
       "      <th>4</th>\n",
       "      <td>50.0</td>\n",
       "      <td>0.0</td>\n",
       "      <td>0.0</td>\n",
       "      <td>True</td>\n",
       "      <td>False</td>\n",
       "      <td>150.0</td>\n",
       "      <td>514.0</td>\n",
       "      <td>MastC</td>\n",
       "      <td>0</td>\n",
       "      <td>2024-01-02</td>\n",
       "      <td>1</td>\n",
       "    </tr>\n",
       "  </tbody>\n",
       "</table>\n",
       "</div>"
      ],
      "text/plain": [
       "   TransactionAmt   C3   C5  card6  isFraud  card3  card2 Entity  hora_dia  \\\n",
       "0            68.5  0.0  0.0   True    False  150.0    NaN   Disc         0   \n",
       "1            29.0  0.0  0.0   True    False  150.0  404.0  MastC         0   \n",
       "2            59.0  0.0  0.0  False    False  150.0  490.0   Visa         0   \n",
       "3            50.0  0.0  0.0  False    False  150.0  567.0  MastC         0   \n",
       "4            50.0  0.0  0.0   True    False  150.0  514.0  MastC         0   \n",
       "\n",
       "         date  dia_semana  \n",
       "0  2024-01-02           1  \n",
       "1  2024-01-02           1  \n",
       "2  2024-01-02           1  \n",
       "3  2024-01-02           1  \n",
       "4  2024-01-02           1  "
      ]
     },
     "execution_count": 31,
     "metadata": {},
     "output_type": "execute_result"
    }
   ],
   "source": [
    "df_new=df.drop([\"TransactionID\",\"TransactionDT\"],axis=1)\n",
    "df_new.head()"
   ]
  },
  {
   "cell_type": "code",
   "execution_count": 26,
   "metadata": {},
   "outputs": [
    {
     "name": "stdout",
     "output_type": "stream",
     "text": [
      "<class 'pandas.core.frame.DataFrame'>\n",
      "RangeIndex: 590540 entries, 0 to 590539\n",
      "Data columns (total 11 columns):\n",
      " #   Column          Non-Null Count   Dtype  \n",
      "---  ------          --------------   -----  \n",
      " 0   TransactionAmt  590540 non-null  float64\n",
      " 1   C3              590540 non-null  float64\n",
      " 2   C5              590540 non-null  float64\n",
      " 3   card6           588924 non-null  object \n",
      " 4   isFraud         590540 non-null  bool   \n",
      " 5   card3           588975 non-null  float64\n",
      " 6   card2           581607 non-null  float64\n",
      " 7   Entity          590540 non-null  object \n",
      " 8   hora_dia        590540 non-null  int64  \n",
      " 9   date            590540 non-null  object \n",
      " 10  dia_semana      590540 non-null  int64  \n",
      "dtypes: bool(1), float64(5), int64(2), object(3)\n",
      "memory usage: 45.6+ MB\n"
     ]
    }
   ],
   "source": [
    "df_new.info()"
   ]
  },
  {
   "cell_type": "markdown",
   "metadata": {},
   "source": [
    "Se puede apreciar algunas columnas con faltantes, la columna \"card6\" que es una columna boleana esta como objeto, se procedera a hacer la transformacion."
   ]
  },
  {
   "cell_type": "code",
   "execution_count": 32,
   "metadata": {},
   "outputs": [],
   "source": [
    "df_new[\"date\"]=pd.to_datetime(df_new[\"date\"])\n",
    "df_new[\"card6\"]=df_new[\"card6\"].astype(bool)"
   ]
  },
  {
   "cell_type": "code",
   "execution_count": 33,
   "metadata": {},
   "outputs": [
    {
     "name": "stdout",
     "output_type": "stream",
     "text": [
      "<class 'pandas.core.frame.DataFrame'>\n",
      "RangeIndex: 590540 entries, 0 to 590539\n",
      "Data columns (total 11 columns):\n",
      " #   Column          Non-Null Count   Dtype         \n",
      "---  ------          --------------   -----         \n",
      " 0   TransactionAmt  590540 non-null  float64       \n",
      " 1   C3              590540 non-null  float64       \n",
      " 2   C5              590540 non-null  float64       \n",
      " 3   card6           590540 non-null  bool          \n",
      " 4   isFraud         590540 non-null  bool          \n",
      " 5   card3           588975 non-null  float64       \n",
      " 6   card2           581607 non-null  float64       \n",
      " 7   Entity          590540 non-null  object        \n",
      " 8   hora_dia        590540 non-null  int64         \n",
      " 9   date            590540 non-null  datetime64[ns]\n",
      " 10  dia_semana      590540 non-null  int64         \n",
      "dtypes: bool(2), datetime64[ns](1), float64(5), int64(2), object(1)\n",
      "memory usage: 41.7+ MB\n"
     ]
    }
   ],
   "source": [
    "df_new.info()"
   ]
  },
  {
   "cell_type": "markdown",
   "metadata": {},
   "source": [
    "Ahora las columnas son reconocidad correctamente por el tipo de dato que tienen."
   ]
  },
  {
   "cell_type": "code",
   "execution_count": 34,
   "metadata": {},
   "outputs": [
    {
     "data": {
      "text/plain": [
       "['card6', 'card3', 'card2']"
      ]
     },
     "execution_count": 34,
     "metadata": {},
     "output_type": "execute_result"
    }
   ],
   "source": [
    "cols_w_nan=[col for col in df.columns if df[col].isnull().any()]\n",
    "cols_w_nan"
   ]
  },
  {
   "cell_type": "markdown",
   "metadata": {},
   "source": [
    "Solo las columnas card3 y card2 presentan datos faltantes, se procede a revisar si representan un % alto de los registros."
   ]
  },
  {
   "cell_type": "code",
   "execution_count": 35,
   "metadata": {},
   "outputs": [
    {
     "data": {
      "text/plain": [
       "8933"
      ]
     },
     "execution_count": 35,
     "metadata": {},
     "output_type": "execute_result"
    }
   ],
   "source": [
    "df_new.isnull().any(axis=1).sum()"
   ]
  },
  {
   "cell_type": "markdown",
   "metadata": {},
   "source": [
    "Existen 8933 filas con almenos 1 valor en NAN."
   ]
  },
  {
   "cell_type": "code",
   "execution_count": 36,
   "metadata": {},
   "outputs": [
    {
     "data": {
      "text/plain": [
       "1.5126833068039423"
      ]
     },
     "execution_count": 36,
     "metadata": {},
     "output_type": "execute_result"
    }
   ],
   "source": [
    "prop_nan=(df_new.isnull().any(axis=1).sum()/len(df_new))*100\n",
    "prop_nan"
   ]
  },
  {
   "cell_type": "markdown",
   "metadata": {},
   "source": [
    "los valores faltantes representan aproximadamete el 1.5% de los registros."
   ]
  },
  {
   "cell_type": "code",
   "execution_count": 37,
   "metadata": {},
   "outputs": [],
   "source": [
    "a=df_new.isnull().any(axis=1)\n",
    "b=a[a==True]\n",
    "c=list(b.index)\n",
    "\n",
    "d=df_new.iloc[c,:]"
   ]
  },
  {
   "cell_type": "code",
   "execution_count": 38,
   "metadata": {},
   "outputs": [
    {
     "data": {
      "text/plain": [
       "8933"
      ]
     },
     "execution_count": 38,
     "metadata": {},
     "output_type": "execute_result"
    }
   ],
   "source": [
    "d[\"card2\"].isnull().sum()"
   ]
  },
  {
   "cell_type": "code",
   "execution_count": 39,
   "metadata": {},
   "outputs": [
    {
     "name": "stdout",
     "output_type": "stream",
     "text": [
      "porcentaje de valores faltantes que son fraudes 4.735251315347588 que no lo son 95.26474868465242\n"
     ]
    }
   ],
   "source": [
    "nfraud=len(d[d[\"isFraud\"]==True])\n",
    "nnotfraud=len(d[d[\"isFraud\"]==False])\n",
    "\n",
    "print(\"porcentaje de valores faltantes que son fraudes\", (nfraud)*100/(nfraud+nnotfraud) ,\"que no lo son\",(nnotfraud)*100/(nfraud+nnotfraud) )"
   ]
  },
  {
   "cell_type": "code",
   "execution_count": 40,
   "metadata": {},
   "outputs": [
    {
     "name": "stdout",
     "output_type": "stream",
     "text": [
      "3.499000914417313 que no lo son 96.50099908558269\n"
     ]
    }
   ],
   "source": [
    "nfraud=len(df_new[df_new[\"isFraud\"]==True])\n",
    "nnotfraud=len(df_new[df_new[\"isFraud\"]==False])\n",
    "print( (nfraud)*100/(nfraud+nnotfraud) ,\"que no lo son\",(nnotfraud)*100/(nfraud+nnotfraud) )"
   ]
  },
  {
   "cell_type": "markdown",
   "metadata": {},
   "source": [
    "Se puede ver que mas o menos se conserva la proporcion de faltantes de valores de fraud y no fraud entre los que tienen datos faltante y lo que no tienen datos faltantes."
   ]
  },
  {
   "cell_type": "code",
   "execution_count": 41,
   "metadata": {},
   "outputs": [
    {
     "name": "stdout",
     "output_type": "stream",
     "text": [
      "4.735251315347588 que no lo son 95.26474868465242\n"
     ]
    }
   ],
   "source": [
    "a=df_new[df_new[\"card2\"].isnull()]\n",
    "\n",
    "nfraud=len(a[a[\"isFraud\"]==True])\n",
    "nnotfraud=len(a[a[\"isFraud\"]==False])\n",
    "print( (nfraud)*100/(nfraud+nnotfraud) ,\"que no lo son\",(nnotfraud)*100/(nfraud+nnotfraud) )\n"
   ]
  },
  {
   "cell_type": "markdown",
   "metadata": {},
   "source": [
    "Se mantiene la relacion inicial."
   ]
  },
  {
   "cell_type": "code",
   "execution_count": 37,
   "metadata": {},
   "outputs": [
    {
     "name": "stdout",
     "output_type": "stream",
     "text": [
      "2.4920127795527156 que no lo son 97.50798722044729\n"
     ]
    }
   ],
   "source": [
    "a=df_new[df_new[\"card3\"].isnull()]\n",
    "\n",
    "nfraud=len(a[a[\"isFraud\"]==True])\n",
    "nnotfraud=len(a[a[\"isFraud\"]==False])\n",
    "print( (nfraud)*100/(nfraud+nnotfraud) ,\"que no lo son\",(nnotfraud)*100/(nfraud+nnotfraud) )"
   ]
  },
  {
   "cell_type": "markdown",
   "metadata": {},
   "source": [
    "se puede observar que hay un poco mas de presencia de valores faltantantes para transacciones no fraudulentas que para las fraudulentas en la columna card3."
   ]
  },
  {
   "cell_type": "markdown",
   "metadata": {},
   "source": [
    "Se procede a realizar una tecnica de KNN-Imputation para los datos faltantes.\n"
   ]
  },
  {
   "cell_type": "code",
   "execution_count": 42,
   "metadata": {},
   "outputs": [
    {
     "data": {
      "text/html": [
       "<div>\n",
       "<style scoped>\n",
       "    .dataframe tbody tr th:only-of-type {\n",
       "        vertical-align: middle;\n",
       "    }\n",
       "\n",
       "    .dataframe tbody tr th {\n",
       "        vertical-align: top;\n",
       "    }\n",
       "\n",
       "    .dataframe thead th {\n",
       "        text-align: right;\n",
       "    }\n",
       "</style>\n",
       "<table border=\"1\" class=\"dataframe\">\n",
       "  <thead>\n",
       "    <tr style=\"text-align: right;\">\n",
       "      <th></th>\n",
       "      <th>TransactionID</th>\n",
       "      <th>TransactionDT</th>\n",
       "      <th>TransactionAmt</th>\n",
       "      <th>C3</th>\n",
       "      <th>C5</th>\n",
       "      <th>card6</th>\n",
       "      <th>isFraud</th>\n",
       "      <th>card3</th>\n",
       "      <th>card2</th>\n",
       "      <th>Entity</th>\n",
       "      <th>hora_dia</th>\n",
       "      <th>date</th>\n",
       "      <th>dia_semana</th>\n",
       "    </tr>\n",
       "  </thead>\n",
       "  <tbody>\n",
       "    <tr>\n",
       "      <th>0</th>\n",
       "      <td>2987000</td>\n",
       "      <td>2024-01-02 00:00:00</td>\n",
       "      <td>68.5</td>\n",
       "      <td>0.0</td>\n",
       "      <td>0.0</td>\n",
       "      <td>True</td>\n",
       "      <td>False</td>\n",
       "      <td>150.0</td>\n",
       "      <td>NaN</td>\n",
       "      <td>Disc</td>\n",
       "      <td>0</td>\n",
       "      <td>2024-01-02</td>\n",
       "      <td>1</td>\n",
       "    </tr>\n",
       "    <tr>\n",
       "      <th>1</th>\n",
       "      <td>2987001</td>\n",
       "      <td>2024-01-02 00:00:01</td>\n",
       "      <td>29.0</td>\n",
       "      <td>0.0</td>\n",
       "      <td>0.0</td>\n",
       "      <td>True</td>\n",
       "      <td>False</td>\n",
       "      <td>150.0</td>\n",
       "      <td>404.0</td>\n",
       "      <td>MastC</td>\n",
       "      <td>0</td>\n",
       "      <td>2024-01-02</td>\n",
       "      <td>1</td>\n",
       "    </tr>\n",
       "    <tr>\n",
       "      <th>2</th>\n",
       "      <td>2987002</td>\n",
       "      <td>2024-01-02 00:01:09</td>\n",
       "      <td>59.0</td>\n",
       "      <td>0.0</td>\n",
       "      <td>0.0</td>\n",
       "      <td>False</td>\n",
       "      <td>False</td>\n",
       "      <td>150.0</td>\n",
       "      <td>490.0</td>\n",
       "      <td>Visa</td>\n",
       "      <td>0</td>\n",
       "      <td>2024-01-02</td>\n",
       "      <td>1</td>\n",
       "    </tr>\n",
       "    <tr>\n",
       "      <th>3</th>\n",
       "      <td>2987003</td>\n",
       "      <td>2024-01-02 00:01:39</td>\n",
       "      <td>50.0</td>\n",
       "      <td>0.0</td>\n",
       "      <td>0.0</td>\n",
       "      <td>False</td>\n",
       "      <td>False</td>\n",
       "      <td>150.0</td>\n",
       "      <td>567.0</td>\n",
       "      <td>MastC</td>\n",
       "      <td>0</td>\n",
       "      <td>2024-01-02</td>\n",
       "      <td>1</td>\n",
       "    </tr>\n",
       "    <tr>\n",
       "      <th>4</th>\n",
       "      <td>2987004</td>\n",
       "      <td>2024-01-02 00:01:46</td>\n",
       "      <td>50.0</td>\n",
       "      <td>0.0</td>\n",
       "      <td>0.0</td>\n",
       "      <td>True</td>\n",
       "      <td>False</td>\n",
       "      <td>150.0</td>\n",
       "      <td>514.0</td>\n",
       "      <td>MastC</td>\n",
       "      <td>0</td>\n",
       "      <td>2024-01-02</td>\n",
       "      <td>1</td>\n",
       "    </tr>\n",
       "  </tbody>\n",
       "</table>\n",
       "</div>"
      ],
      "text/plain": [
       "   TransactionID       TransactionDT  TransactionAmt   C3   C5  card6  \\\n",
       "0        2987000 2024-01-02 00:00:00            68.5  0.0  0.0   True   \n",
       "1        2987001 2024-01-02 00:00:01            29.0  0.0  0.0   True   \n",
       "2        2987002 2024-01-02 00:01:09            59.0  0.0  0.0  False   \n",
       "3        2987003 2024-01-02 00:01:39            50.0  0.0  0.0  False   \n",
       "4        2987004 2024-01-02 00:01:46            50.0  0.0  0.0   True   \n",
       "\n",
       "   isFraud  card3  card2 Entity  hora_dia        date  dia_semana  \n",
       "0    False  150.0    NaN   Disc         0  2024-01-02           1  \n",
       "1    False  150.0  404.0  MastC         0  2024-01-02           1  \n",
       "2    False  150.0  490.0   Visa         0  2024-01-02           1  \n",
       "3    False  150.0  567.0  MastC         0  2024-01-02           1  \n",
       "4    False  150.0  514.0  MastC         0  2024-01-02           1  "
      ]
     },
     "execution_count": 42,
     "metadata": {},
     "output_type": "execute_result"
    }
   ],
   "source": [
    "df.head(\n",
    "    \n",
    ")"
   ]
  },
  {
   "cell_type": "code",
   "execution_count": 43,
   "metadata": {},
   "outputs": [],
   "source": [
    "imputer=KNNImputer(n_neighbors=2)\n",
    "\n",
    "numeric_df = df.select_dtypes(include=['number'])\n",
    "categorical_df = df.select_dtypes(exclude=['number'])\n",
    "\n",
    "numeric_df_imputed = pd.DataFrame(imputer.fit_transform(numeric_df), columns=numeric_df.columns)\n",
    "\n",
    "df2 = pd.concat([numeric_df_imputed, categorical_df], axis=1)\n"
   ]
  },
  {
   "cell_type": "code",
   "execution_count": 44,
   "metadata": {},
   "outputs": [
    {
     "data": {
      "text/html": [
       "<div>\n",
       "<style scoped>\n",
       "    .dataframe tbody tr th:only-of-type {\n",
       "        vertical-align: middle;\n",
       "    }\n",
       "\n",
       "    .dataframe tbody tr th {\n",
       "        vertical-align: top;\n",
       "    }\n",
       "\n",
       "    .dataframe thead th {\n",
       "        text-align: right;\n",
       "    }\n",
       "</style>\n",
       "<table border=\"1\" class=\"dataframe\">\n",
       "  <thead>\n",
       "    <tr style=\"text-align: right;\">\n",
       "      <th></th>\n",
       "      <th>TransactionID</th>\n",
       "      <th>TransactionAmt</th>\n",
       "      <th>C3</th>\n",
       "      <th>C5</th>\n",
       "      <th>card3</th>\n",
       "      <th>card2</th>\n",
       "      <th>hora_dia</th>\n",
       "      <th>dia_semana</th>\n",
       "      <th>TransactionDT</th>\n",
       "      <th>card6</th>\n",
       "      <th>isFraud</th>\n",
       "      <th>Entity</th>\n",
       "      <th>date</th>\n",
       "    </tr>\n",
       "  </thead>\n",
       "  <tbody>\n",
       "    <tr>\n",
       "      <th>0</th>\n",
       "      <td>2987000.0</td>\n",
       "      <td>68.5</td>\n",
       "      <td>0.0</td>\n",
       "      <td>0.0</td>\n",
       "      <td>150.0</td>\n",
       "      <td>522.5</td>\n",
       "      <td>0.0</td>\n",
       "      <td>1.0</td>\n",
       "      <td>2024-01-02 00:00:00</td>\n",
       "      <td>True</td>\n",
       "      <td>False</td>\n",
       "      <td>Disc</td>\n",
       "      <td>2024-01-02</td>\n",
       "    </tr>\n",
       "    <tr>\n",
       "      <th>1</th>\n",
       "      <td>2987001.0</td>\n",
       "      <td>29.0</td>\n",
       "      <td>0.0</td>\n",
       "      <td>0.0</td>\n",
       "      <td>150.0</td>\n",
       "      <td>404.0</td>\n",
       "      <td>0.0</td>\n",
       "      <td>1.0</td>\n",
       "      <td>2024-01-02 00:00:01</td>\n",
       "      <td>True</td>\n",
       "      <td>False</td>\n",
       "      <td>MastC</td>\n",
       "      <td>2024-01-02</td>\n",
       "    </tr>\n",
       "    <tr>\n",
       "      <th>2</th>\n",
       "      <td>2987002.0</td>\n",
       "      <td>59.0</td>\n",
       "      <td>0.0</td>\n",
       "      <td>0.0</td>\n",
       "      <td>150.0</td>\n",
       "      <td>490.0</td>\n",
       "      <td>0.0</td>\n",
       "      <td>1.0</td>\n",
       "      <td>2024-01-02 00:01:09</td>\n",
       "      <td>False</td>\n",
       "      <td>False</td>\n",
       "      <td>Visa</td>\n",
       "      <td>2024-01-02</td>\n",
       "    </tr>\n",
       "    <tr>\n",
       "      <th>3</th>\n",
       "      <td>2987003.0</td>\n",
       "      <td>50.0</td>\n",
       "      <td>0.0</td>\n",
       "      <td>0.0</td>\n",
       "      <td>150.0</td>\n",
       "      <td>567.0</td>\n",
       "      <td>0.0</td>\n",
       "      <td>1.0</td>\n",
       "      <td>2024-01-02 00:01:39</td>\n",
       "      <td>False</td>\n",
       "      <td>False</td>\n",
       "      <td>MastC</td>\n",
       "      <td>2024-01-02</td>\n",
       "    </tr>\n",
       "    <tr>\n",
       "      <th>4</th>\n",
       "      <td>2987004.0</td>\n",
       "      <td>50.0</td>\n",
       "      <td>0.0</td>\n",
       "      <td>0.0</td>\n",
       "      <td>150.0</td>\n",
       "      <td>514.0</td>\n",
       "      <td>0.0</td>\n",
       "      <td>1.0</td>\n",
       "      <td>2024-01-02 00:01:46</td>\n",
       "      <td>True</td>\n",
       "      <td>False</td>\n",
       "      <td>MastC</td>\n",
       "      <td>2024-01-02</td>\n",
       "    </tr>\n",
       "  </tbody>\n",
       "</table>\n",
       "</div>"
      ],
      "text/plain": [
       "   TransactionID  TransactionAmt   C3   C5  card3  card2  hora_dia  \\\n",
       "0      2987000.0            68.5  0.0  0.0  150.0  522.5       0.0   \n",
       "1      2987001.0            29.0  0.0  0.0  150.0  404.0       0.0   \n",
       "2      2987002.0            59.0  0.0  0.0  150.0  490.0       0.0   \n",
       "3      2987003.0            50.0  0.0  0.0  150.0  567.0       0.0   \n",
       "4      2987004.0            50.0  0.0  0.0  150.0  514.0       0.0   \n",
       "\n",
       "   dia_semana       TransactionDT  card6  isFraud Entity        date  \n",
       "0         1.0 2024-01-02 00:00:00   True    False   Disc  2024-01-02  \n",
       "1         1.0 2024-01-02 00:00:01   True    False  MastC  2024-01-02  \n",
       "2         1.0 2024-01-02 00:01:09  False    False   Visa  2024-01-02  \n",
       "3         1.0 2024-01-02 00:01:39  False    False  MastC  2024-01-02  \n",
       "4         1.0 2024-01-02 00:01:46   True    False  MastC  2024-01-02  "
      ]
     },
     "execution_count": 44,
     "metadata": {},
     "output_type": "execute_result"
    }
   ],
   "source": [
    "df2.head()"
   ]
  },
  {
   "cell_type": "code",
   "execution_count": 45,
   "metadata": {},
   "outputs": [],
   "source": [
    "df.to_csv(\"DataF_2.csv\",index=False)"
   ]
  },
  {
   "cell_type": "markdown",
   "metadata": {},
   "source": [
    "## Eda Variables numericas y categoricas"
   ]
  },
  {
   "cell_type": "code",
   "execution_count": 7,
   "metadata": {},
   "outputs": [
    {
     "name": "stderr",
     "output_type": "stream",
     "text": [
      "C:\\Users\\g_a09\\AppData\\Local\\Temp\\ipykernel_9948\\1234892607.py:1: DtypeWarning: Columns (5) have mixed types. Specify dtype option on import or set low_memory=False.\n",
      "  df_new=pd.read_csv(\"DataF_2.csv\")\n"
     ]
    },
    {
     "data": {
      "text/html": [
       "<div>\n",
       "<style scoped>\n",
       "    .dataframe tbody tr th:only-of-type {\n",
       "        vertical-align: middle;\n",
       "    }\n",
       "\n",
       "    .dataframe tbody tr th {\n",
       "        vertical-align: top;\n",
       "    }\n",
       "\n",
       "    .dataframe thead th {\n",
       "        text-align: right;\n",
       "    }\n",
       "</style>\n",
       "<table border=\"1\" class=\"dataframe\">\n",
       "  <thead>\n",
       "    <tr style=\"text-align: right;\">\n",
       "      <th></th>\n",
       "      <th>TransactionID</th>\n",
       "      <th>TransactionDT</th>\n",
       "      <th>TransactionAmt</th>\n",
       "      <th>C3</th>\n",
       "      <th>C5</th>\n",
       "      <th>card6</th>\n",
       "      <th>isFraud</th>\n",
       "      <th>card3</th>\n",
       "      <th>card2</th>\n",
       "      <th>Entity</th>\n",
       "      <th>hora_dia</th>\n",
       "      <th>date</th>\n",
       "      <th>dia_semana</th>\n",
       "    </tr>\n",
       "  </thead>\n",
       "  <tbody>\n",
       "    <tr>\n",
       "      <th>0</th>\n",
       "      <td>2987000</td>\n",
       "      <td>2024-01-02 00:00:00</td>\n",
       "      <td>68.5</td>\n",
       "      <td>0.0</td>\n",
       "      <td>0.0</td>\n",
       "      <td>True</td>\n",
       "      <td>False</td>\n",
       "      <td>150.0</td>\n",
       "      <td>NaN</td>\n",
       "      <td>Disc</td>\n",
       "      <td>0</td>\n",
       "      <td>2024-01-02</td>\n",
       "      <td>1</td>\n",
       "    </tr>\n",
       "    <tr>\n",
       "      <th>1</th>\n",
       "      <td>2987001</td>\n",
       "      <td>2024-01-02 00:00:01</td>\n",
       "      <td>29.0</td>\n",
       "      <td>0.0</td>\n",
       "      <td>0.0</td>\n",
       "      <td>True</td>\n",
       "      <td>False</td>\n",
       "      <td>150.0</td>\n",
       "      <td>404.0</td>\n",
       "      <td>MastC</td>\n",
       "      <td>0</td>\n",
       "      <td>2024-01-02</td>\n",
       "      <td>1</td>\n",
       "    </tr>\n",
       "    <tr>\n",
       "      <th>2</th>\n",
       "      <td>2987002</td>\n",
       "      <td>2024-01-02 00:01:09</td>\n",
       "      <td>59.0</td>\n",
       "      <td>0.0</td>\n",
       "      <td>0.0</td>\n",
       "      <td>False</td>\n",
       "      <td>False</td>\n",
       "      <td>150.0</td>\n",
       "      <td>490.0</td>\n",
       "      <td>Visa</td>\n",
       "      <td>0</td>\n",
       "      <td>2024-01-02</td>\n",
       "      <td>1</td>\n",
       "    </tr>\n",
       "    <tr>\n",
       "      <th>3</th>\n",
       "      <td>2987003</td>\n",
       "      <td>2024-01-02 00:01:39</td>\n",
       "      <td>50.0</td>\n",
       "      <td>0.0</td>\n",
       "      <td>0.0</td>\n",
       "      <td>False</td>\n",
       "      <td>False</td>\n",
       "      <td>150.0</td>\n",
       "      <td>567.0</td>\n",
       "      <td>MastC</td>\n",
       "      <td>0</td>\n",
       "      <td>2024-01-02</td>\n",
       "      <td>1</td>\n",
       "    </tr>\n",
       "    <tr>\n",
       "      <th>4</th>\n",
       "      <td>2987004</td>\n",
       "      <td>2024-01-02 00:01:46</td>\n",
       "      <td>50.0</td>\n",
       "      <td>0.0</td>\n",
       "      <td>0.0</td>\n",
       "      <td>True</td>\n",
       "      <td>False</td>\n",
       "      <td>150.0</td>\n",
       "      <td>514.0</td>\n",
       "      <td>MastC</td>\n",
       "      <td>0</td>\n",
       "      <td>2024-01-02</td>\n",
       "      <td>1</td>\n",
       "    </tr>\n",
       "  </tbody>\n",
       "</table>\n",
       "</div>"
      ],
      "text/plain": [
       "   TransactionID        TransactionDT  TransactionAmt   C3   C5  card6  \\\n",
       "0        2987000  2024-01-02 00:00:00            68.5  0.0  0.0   True   \n",
       "1        2987001  2024-01-02 00:00:01            29.0  0.0  0.0   True   \n",
       "2        2987002  2024-01-02 00:01:09            59.0  0.0  0.0  False   \n",
       "3        2987003  2024-01-02 00:01:39            50.0  0.0  0.0  False   \n",
       "4        2987004  2024-01-02 00:01:46            50.0  0.0  0.0   True   \n",
       "\n",
       "   isFraud  card3  card2 Entity  hora_dia        date  dia_semana  \n",
       "0    False  150.0    NaN   Disc         0  2024-01-02           1  \n",
       "1    False  150.0  404.0  MastC         0  2024-01-02           1  \n",
       "2    False  150.0  490.0   Visa         0  2024-01-02           1  \n",
       "3    False  150.0  567.0  MastC         0  2024-01-02           1  \n",
       "4    False  150.0  514.0  MastC         0  2024-01-02           1  "
      ]
     },
     "execution_count": 7,
     "metadata": {},
     "output_type": "execute_result"
    }
   ],
   "source": [
    "df_new=pd.read_csv(\"DataF_2.csv\")\n",
    "df_new.head()"
   ]
  },
  {
   "cell_type": "code",
   "execution_count": 5,
   "metadata": {},
   "outputs": [
    {
     "data": {
      "image/png": "[encoded data removed]",
      "text/plain": [
       "<Figure size 800x600 with 1 Axes>"
      ]
     },
     "metadata": {},
     "output_type": "display_data"
    }
   ],
   "source": [
    "fraude = {False: 'No es fraude', True: 'Es fraude'}\n",
    "\n",
    "df_b = df['isFraud'].map(fraude)\n",
    "\n",
    "plt.figure(figsize=(8, 6))\n",
    "sns.countplot(x=df_b)\n",
    "plt.xlabel('Fraude')\n",
    "plt.ylabel('Número de transacciones')\n",
    "plt.title('Distribución de la variable isFraud')\n",
    "plt.show()"
   ]
  },
  {
   "cell_type": "markdown",
   "metadata": {},
   "source": [
    "Se observa que la mayoría de datos en el datset corresponde a la categoría ‘No es fraude’, mientras que hay muchos menos datos de la categoría ‘Es fraude’. Esto significa que tenemos un conjunto de datos desbalanceados."
   ]
  },
  {
   "cell_type": "code",
   "execution_count": 31,
   "metadata": {},
   "outputs": [
    {
     "data": {
      "text/html": [
       "<div>\n",
       "<style scoped>\n",
       "    .dataframe tbody tr th:only-of-type {\n",
       "        vertical-align: middle;\n",
       "    }\n",
       "\n",
       "    .dataframe tbody tr th {\n",
       "        vertical-align: top;\n",
       "    }\n",
       "\n",
       "    .dataframe thead th {\n",
       "        text-align: right;\n",
       "    }\n",
       "</style>\n",
       "<table border=\"1\" class=\"dataframe\">\n",
       "  <thead>\n",
       "    <tr style=\"text-align: right;\">\n",
       "      <th></th>\n",
       "      <th>TransactionAmt</th>\n",
       "      <th>C3</th>\n",
       "      <th>C5</th>\n",
       "      <th>card6</th>\n",
       "      <th>isFraud</th>\n",
       "      <th>card3</th>\n",
       "      <th>card2</th>\n",
       "      <th>Entity</th>\n",
       "      <th>hora_dia</th>\n",
       "      <th>date</th>\n",
       "    </tr>\n",
       "  </thead>\n",
       "  <tbody>\n",
       "    <tr>\n",
       "      <th>0</th>\n",
       "      <td>68.5</td>\n",
       "      <td>0.0</td>\n",
       "      <td>0.0</td>\n",
       "      <td>True</td>\n",
       "      <td>False</td>\n",
       "      <td>150.0</td>\n",
       "      <td>NaN</td>\n",
       "      <td>Disc</td>\n",
       "      <td>0</td>\n",
       "      <td>2024-01-02</td>\n",
       "    </tr>\n",
       "    <tr>\n",
       "      <th>1</th>\n",
       "      <td>29.0</td>\n",
       "      <td>0.0</td>\n",
       "      <td>0.0</td>\n",
       "      <td>True</td>\n",
       "      <td>False</td>\n",
       "      <td>150.0</td>\n",
       "      <td>404.0</td>\n",
       "      <td>MastC</td>\n",
       "      <td>0</td>\n",
       "      <td>2024-01-02</td>\n",
       "    </tr>\n",
       "    <tr>\n",
       "      <th>2</th>\n",
       "      <td>59.0</td>\n",
       "      <td>0.0</td>\n",
       "      <td>0.0</td>\n",
       "      <td>False</td>\n",
       "      <td>False</td>\n",
       "      <td>150.0</td>\n",
       "      <td>490.0</td>\n",
       "      <td>Visa</td>\n",
       "      <td>0</td>\n",
       "      <td>2024-01-02</td>\n",
       "    </tr>\n",
       "    <tr>\n",
       "      <th>3</th>\n",
       "      <td>50.0</td>\n",
       "      <td>0.0</td>\n",
       "      <td>0.0</td>\n",
       "      <td>False</td>\n",
       "      <td>False</td>\n",
       "      <td>150.0</td>\n",
       "      <td>567.0</td>\n",
       "      <td>MastC</td>\n",
       "      <td>0</td>\n",
       "      <td>2024-01-02</td>\n",
       "    </tr>\n",
       "    <tr>\n",
       "      <th>4</th>\n",
       "      <td>50.0</td>\n",
       "      <td>0.0</td>\n",
       "      <td>0.0</td>\n",
       "      <td>True</td>\n",
       "      <td>False</td>\n",
       "      <td>150.0</td>\n",
       "      <td>514.0</td>\n",
       "      <td>MastC</td>\n",
       "      <td>0</td>\n",
       "      <td>2024-01-02</td>\n",
       "    </tr>\n",
       "  </tbody>\n",
       "</table>\n",
       "</div>"
      ],
      "text/plain": [
       "   TransactionAmt   C3   C5  card6  isFraud  card3  card2 Entity  hora_dia  \\\n",
       "0            68.5  0.0  0.0   True    False  150.0    NaN   Disc         0   \n",
       "1            29.0  0.0  0.0   True    False  150.0  404.0  MastC         0   \n",
       "2            59.0  0.0  0.0  False    False  150.0  490.0   Visa         0   \n",
       "3            50.0  0.0  0.0  False    False  150.0  567.0  MastC         0   \n",
       "4            50.0  0.0  0.0   True    False  150.0  514.0  MastC         0   \n",
       "\n",
       "        date  \n",
       "0 2024-01-02  \n",
       "1 2024-01-02  \n",
       "2 2024-01-02  \n",
       "3 2024-01-02  \n",
       "4 2024-01-02  "
      ]
     },
     "execution_count": 31,
     "metadata": {},
     "output_type": "execute_result"
    }
   ],
   "source": [
    "df_new.head()"
   ]
  },
  {
   "cell_type": "code",
   "execution_count": 46,
   "metadata": {},
   "outputs": [],
   "source": [
    "df_new=df_new.dropna()"
   ]
  },
  {
   "cell_type": "code",
   "execution_count": 56,
   "metadata": {},
   "outputs": [
    {
     "data": {
      "text/html": [
       "<div>\n",
       "<style scoped>\n",
       "    .dataframe tbody tr th:only-of-type {\n",
       "        vertical-align: middle;\n",
       "    }\n",
       "\n",
       "    .dataframe tbody tr th {\n",
       "        vertical-align: top;\n",
       "    }\n",
       "\n",
       "    .dataframe thead th {\n",
       "        text-align: right;\n",
       "    }\n",
       "</style>\n",
       "<table border=\"1\" class=\"dataframe\">\n",
       "  <thead>\n",
       "    <tr style=\"text-align: right;\">\n",
       "      <th></th>\n",
       "      <th>TransactionAmt</th>\n",
       "      <th>C3</th>\n",
       "      <th>C5</th>\n",
       "      <th>card6</th>\n",
       "      <th>isFraud</th>\n",
       "      <th>card3</th>\n",
       "      <th>card2</th>\n",
       "      <th>Entity</th>\n",
       "      <th>hora_dia</th>\n",
       "      <th>date</th>\n",
       "      <th>dia_semana</th>\n",
       "    </tr>\n",
       "  </thead>\n",
       "  <tbody>\n",
       "    <tr>\n",
       "      <th>1</th>\n",
       "      <td>29.0</td>\n",
       "      <td>0.0</td>\n",
       "      <td>0.0</td>\n",
       "      <td>True</td>\n",
       "      <td>False</td>\n",
       "      <td>150.0</td>\n",
       "      <td>404.0</td>\n",
       "      <td>MastC</td>\n",
       "      <td>0</td>\n",
       "      <td>2024-01-02</td>\n",
       "      <td>1</td>\n",
       "    </tr>\n",
       "    <tr>\n",
       "      <th>2</th>\n",
       "      <td>59.0</td>\n",
       "      <td>0.0</td>\n",
       "      <td>0.0</td>\n",
       "      <td>False</td>\n",
       "      <td>False</td>\n",
       "      <td>150.0</td>\n",
       "      <td>490.0</td>\n",
       "      <td>Visa</td>\n",
       "      <td>0</td>\n",
       "      <td>2024-01-02</td>\n",
       "      <td>1</td>\n",
       "    </tr>\n",
       "    <tr>\n",
       "      <th>3</th>\n",
       "      <td>50.0</td>\n",
       "      <td>0.0</td>\n",
       "      <td>0.0</td>\n",
       "      <td>False</td>\n",
       "      <td>False</td>\n",
       "      <td>150.0</td>\n",
       "      <td>567.0</td>\n",
       "      <td>MastC</td>\n",
       "      <td>0</td>\n",
       "      <td>2024-01-02</td>\n",
       "      <td>1</td>\n",
       "    </tr>\n",
       "    <tr>\n",
       "      <th>4</th>\n",
       "      <td>50.0</td>\n",
       "      <td>0.0</td>\n",
       "      <td>0.0</td>\n",
       "      <td>True</td>\n",
       "      <td>False</td>\n",
       "      <td>150.0</td>\n",
       "      <td>514.0</td>\n",
       "      <td>MastC</td>\n",
       "      <td>0</td>\n",
       "      <td>2024-01-02</td>\n",
       "      <td>1</td>\n",
       "    </tr>\n",
       "    <tr>\n",
       "      <th>5</th>\n",
       "      <td>49.0</td>\n",
       "      <td>0.0</td>\n",
       "      <td>0.0</td>\n",
       "      <td>False</td>\n",
       "      <td>False</td>\n",
       "      <td>150.0</td>\n",
       "      <td>555.0</td>\n",
       "      <td>Visa</td>\n",
       "      <td>0</td>\n",
       "      <td>2024-01-02</td>\n",
       "      <td>1</td>\n",
       "    </tr>\n",
       "  </tbody>\n",
       "</table>\n",
       "</div>"
      ],
      "text/plain": [
       "   TransactionAmt   C3   C5  card6  isFraud  card3  card2 Entity  hora_dia  \\\n",
       "1            29.0  0.0  0.0   True    False  150.0  404.0  MastC         0   \n",
       "2            59.0  0.0  0.0  False    False  150.0  490.0   Visa         0   \n",
       "3            50.0  0.0  0.0  False    False  150.0  567.0  MastC         0   \n",
       "4            50.0  0.0  0.0   True    False  150.0  514.0  MastC         0   \n",
       "5            49.0  0.0  0.0  False    False  150.0  555.0   Visa         0   \n",
       "\n",
       "        date  dia_semana  \n",
       "1 2024-01-02           1  \n",
       "2 2024-01-02           1  \n",
       "3 2024-01-02           1  \n",
       "4 2024-01-02           1  \n",
       "5 2024-01-02           1  "
      ]
     },
     "execution_count": 56,
     "metadata": {},
     "output_type": "execute_result"
    }
   ],
   "source": [
    "df_new.head()"
   ]
  },
  {
   "cell_type": "code",
   "execution_count": 8,
   "metadata": {},
   "outputs": [],
   "source": [
    "df_n_num=df_new.select_dtypes(include=\"float\")\n",
    "df_n_num[\"isFraud\"]=df_new[\"isFraud\"]\n",
    "\n",
    "cols=[\"Entity\",\"card6\",\"isFraud\"]\n",
    "df_n_cat=df_new.loc[:,cols]"
   ]
  },
  {
   "cell_type": "code",
   "execution_count": 53,
   "metadata": {},
   "outputs": [
    {
     "data": {
      "text/html": [
       "<div>\n",
       "<style scoped>\n",
       "    .dataframe tbody tr th:only-of-type {\n",
       "        vertical-align: middle;\n",
       "    }\n",
       "\n",
       "    .dataframe tbody tr th {\n",
       "        vertical-align: top;\n",
       "    }\n",
       "\n",
       "    .dataframe thead th {\n",
       "        text-align: right;\n",
       "    }\n",
       "</style>\n",
       "<table border=\"1\" class=\"dataframe\">\n",
       "  <thead>\n",
       "    <tr style=\"text-align: right;\">\n",
       "      <th></th>\n",
       "      <th>TransactionAmt</th>\n",
       "      <th>C3</th>\n",
       "      <th>C5</th>\n",
       "      <th>card3</th>\n",
       "      <th>card2</th>\n",
       "      <th>isFraud</th>\n",
       "    </tr>\n",
       "  </thead>\n",
       "  <tbody>\n",
       "    <tr>\n",
       "      <th>1</th>\n",
       "      <td>29.0</td>\n",
       "      <td>0.0</td>\n",
       "      <td>0.0</td>\n",
       "      <td>150.0</td>\n",
       "      <td>404.0</td>\n",
       "      <td>False</td>\n",
       "    </tr>\n",
       "    <tr>\n",
       "      <th>2</th>\n",
       "      <td>59.0</td>\n",
       "      <td>0.0</td>\n",
       "      <td>0.0</td>\n",
       "      <td>150.0</td>\n",
       "      <td>490.0</td>\n",
       "      <td>False</td>\n",
       "    </tr>\n",
       "    <tr>\n",
       "      <th>3</th>\n",
       "      <td>50.0</td>\n",
       "      <td>0.0</td>\n",
       "      <td>0.0</td>\n",
       "      <td>150.0</td>\n",
       "      <td>567.0</td>\n",
       "      <td>False</td>\n",
       "    </tr>\n",
       "    <tr>\n",
       "      <th>4</th>\n",
       "      <td>50.0</td>\n",
       "      <td>0.0</td>\n",
       "      <td>0.0</td>\n",
       "      <td>150.0</td>\n",
       "      <td>514.0</td>\n",
       "      <td>False</td>\n",
       "    </tr>\n",
       "    <tr>\n",
       "      <th>5</th>\n",
       "      <td>49.0</td>\n",
       "      <td>0.0</td>\n",
       "      <td>0.0</td>\n",
       "      <td>150.0</td>\n",
       "      <td>555.0</td>\n",
       "      <td>False</td>\n",
       "    </tr>\n",
       "  </tbody>\n",
       "</table>\n",
       "</div>"
      ],
      "text/plain": [
       "   TransactionAmt   C3   C5  card3  card2  isFraud\n",
       "1            29.0  0.0  0.0  150.0  404.0    False\n",
       "2            59.0  0.0  0.0  150.0  490.0    False\n",
       "3            50.0  0.0  0.0  150.0  567.0    False\n",
       "4            50.0  0.0  0.0  150.0  514.0    False\n",
       "5            49.0  0.0  0.0  150.0  555.0    False"
      ]
     },
     "execution_count": 53,
     "metadata": {},
     "output_type": "execute_result"
    }
   ],
   "source": [
    "df_n_num.head()"
   ]
  },
  {
   "cell_type": "code",
   "execution_count": 60,
   "metadata": {},
   "outputs": [
    {
     "data": {
      "text/html": [
       "<div>\n",
       "<style scoped>\n",
       "    .dataframe tbody tr th:only-of-type {\n",
       "        vertical-align: middle;\n",
       "    }\n",
       "\n",
       "    .dataframe tbody tr th {\n",
       "        vertical-align: top;\n",
       "    }\n",
       "\n",
       "    .dataframe thead th {\n",
       "        text-align: right;\n",
       "    }\n",
       "</style>\n",
       "<table border=\"1\" class=\"dataframe\">\n",
       "  <thead>\n",
       "    <tr style=\"text-align: right;\">\n",
       "      <th></th>\n",
       "      <th>Entity</th>\n",
       "      <th>card6</th>\n",
       "      <th>isFraud</th>\n",
       "    </tr>\n",
       "  </thead>\n",
       "  <tbody>\n",
       "    <tr>\n",
       "      <th>1</th>\n",
       "      <td>MastC</td>\n",
       "      <td>True</td>\n",
       "      <td>False</td>\n",
       "    </tr>\n",
       "    <tr>\n",
       "      <th>2</th>\n",
       "      <td>Visa</td>\n",
       "      <td>False</td>\n",
       "      <td>False</td>\n",
       "    </tr>\n",
       "    <tr>\n",
       "      <th>3</th>\n",
       "      <td>MastC</td>\n",
       "      <td>False</td>\n",
       "      <td>False</td>\n",
       "    </tr>\n",
       "    <tr>\n",
       "      <th>4</th>\n",
       "      <td>MastC</td>\n",
       "      <td>True</td>\n",
       "      <td>False</td>\n",
       "    </tr>\n",
       "    <tr>\n",
       "      <th>5</th>\n",
       "      <td>Visa</td>\n",
       "      <td>False</td>\n",
       "      <td>False</td>\n",
       "    </tr>\n",
       "  </tbody>\n",
       "</table>\n",
       "</div>"
      ],
      "text/plain": [
       "  Entity  card6  isFraud\n",
       "1  MastC   True    False\n",
       "2   Visa  False    False\n",
       "3  MastC  False    False\n",
       "4  MastC   True    False\n",
       "5   Visa  False    False"
      ]
     },
     "execution_count": 60,
     "metadata": {},
     "output_type": "execute_result"
    }
   ],
   "source": [
    "df_n_cat.head()"
   ]
  },
  {
   "cell_type": "markdown",
   "metadata": {},
   "source": [
    "### Numericas"
   ]
  },
  {
   "cell_type": "code",
   "execution_count": 71,
   "metadata": {},
   "outputs": [
    {
     "data": {
      "image/png": "[encoded data removed]",
      "text/plain": [
       "<Figure size 1800x600 with 3 Axes>"
      ]
     },
     "metadata": {},
     "output_type": "display_data"
    }
   ],
   "source": [
    "ig, axes = plt.subplots(1, 3, figsize=(18, 6))\n",
    "\n",
    "# Histograma con todos los datos\n",
    "sns.histplot(df_n_num[\"TransactionAmt\"], bins=1000, kde=True, color='skyblue', ax=axes[0])\n",
    "axes[0].set_title('Todos los datos')\n",
    "axes[0].set_xlabel('TransactionAmt')\n",
    "axes[0].set_ylabel('Frecuencia')\n",
    "\n",
    "# Histograma donde la columna isFraud = 0\n",
    "sns.histplot(df_n_num[df_n_num[\"isFraud\"] == False][\"TransactionAmt\"], bins=1000, kde=True, color='green', ax=axes[1])\n",
    "axes[1].set_title('isFraud = 0')\n",
    "axes[1].set_xlabel('TransactionAmt')\n",
    "axes[1].set_ylabel('Frecuencia')\n",
    "\n",
    "# Histograma donde la columna isFraud = 1\n",
    "sns.histplot(df_n_num[df_n_num['isFraud'] == True][\"TransactionAmt\"], bins=1000, kde=True, color='red', ax=axes[2])\n",
    "axes[2].set_title('isFraud = 1')\n",
    "axes[2].set_xlabel('TransactionAmt')\n",
    "axes[2].set_ylabel('Frecuencia')\n",
    "\n",
    "plt.tight_layout()  \n",
    "plt.show()"
   ]
  },
  {
   "cell_type": "markdown",
   "metadata": {},
   "source": [
    "poco valores muy altos, se analiza si los muy alto tienen alguna incidencia en el fraude."
   ]
  },
  {
   "cell_type": "code",
   "execution_count": 9,
   "metadata": {},
   "outputs": [],
   "source": [
    "a=df_n_num[\"TransactionAmt\"]\n",
    "b=list(a.quantile([0.025,0.975]))"
   ]
  },
  {
   "cell_type": "code",
   "execution_count": 10,
   "metadata": {},
   "outputs": [
    {
     "data": {
      "text/html": [
       "<div>\n",
       "<style scoped>\n",
       "    .dataframe tbody tr th:only-of-type {\n",
       "        vertical-align: middle;\n",
       "    }\n",
       "\n",
       "    .dataframe tbody tr th {\n",
       "        vertical-align: top;\n",
       "    }\n",
       "\n",
       "    .dataframe thead th {\n",
       "        text-align: right;\n",
       "    }\n",
       "</style>\n",
       "<table border=\"1\" class=\"dataframe\">\n",
       "  <thead>\n",
       "    <tr style=\"text-align: right;\">\n",
       "      <th></th>\n",
       "      <th>TransactionAmt</th>\n",
       "      <th>isFraud</th>\n",
       "    </tr>\n",
       "  </thead>\n",
       "  <tbody>\n",
       "    <tr>\n",
       "      <th>0</th>\n",
       "      <td>68.50</td>\n",
       "      <td>False</td>\n",
       "    </tr>\n",
       "    <tr>\n",
       "      <th>1</th>\n",
       "      <td>29.00</td>\n",
       "      <td>False</td>\n",
       "    </tr>\n",
       "    <tr>\n",
       "      <th>2</th>\n",
       "      <td>59.00</td>\n",
       "      <td>False</td>\n",
       "    </tr>\n",
       "    <tr>\n",
       "      <th>3</th>\n",
       "      <td>50.00</td>\n",
       "      <td>False</td>\n",
       "    </tr>\n",
       "    <tr>\n",
       "      <th>4</th>\n",
       "      <td>50.00</td>\n",
       "      <td>False</td>\n",
       "    </tr>\n",
       "    <tr>\n",
       "      <th>...</th>\n",
       "      <td>...</td>\n",
       "      <td>...</td>\n",
       "    </tr>\n",
       "    <tr>\n",
       "      <th>590535</th>\n",
       "      <td>49.00</td>\n",
       "      <td>False</td>\n",
       "    </tr>\n",
       "    <tr>\n",
       "      <th>590536</th>\n",
       "      <td>39.50</td>\n",
       "      <td>False</td>\n",
       "    </tr>\n",
       "    <tr>\n",
       "      <th>590537</th>\n",
       "      <td>30.95</td>\n",
       "      <td>False</td>\n",
       "    </tr>\n",
       "    <tr>\n",
       "      <th>590538</th>\n",
       "      <td>117.00</td>\n",
       "      <td>False</td>\n",
       "    </tr>\n",
       "    <tr>\n",
       "      <th>590539</th>\n",
       "      <td>279.95</td>\n",
       "      <td>False</td>\n",
       "    </tr>\n",
       "  </tbody>\n",
       "</table>\n",
       "<p>560975 rows × 2 columns</p>\n",
       "</div>"
      ],
      "text/plain": [
       "        TransactionAmt  isFraud\n",
       "0                68.50    False\n",
       "1                29.00    False\n",
       "2                59.00    False\n",
       "3                50.00    False\n",
       "4                50.00    False\n",
       "...                ...      ...\n",
       "590535           49.00    False\n",
       "590536           39.50    False\n",
       "590537           30.95    False\n",
       "590538          117.00    False\n",
       "590539          279.95    False\n",
       "\n",
       "[560975 rows x 2 columns]"
      ]
     },
     "execution_count": 10,
     "metadata": {},
     "output_type": "execute_result"
    }
   ],
   "source": [
    "c=df_n_num[(df_n_num[\"TransactionAmt\"]<b[1]) & (df_n_num[\"TransactionAmt\"]>b[0])][[\"TransactionAmt\",\"isFraud\"]]\n",
    "c"
   ]
  },
  {
   "cell_type": "code",
   "execution_count": 108,
   "metadata": {},
   "outputs": [
    {
     "data": {
      "image/png": "[encoded data removed]",
      "text/plain": [
       "<Figure size 1800x600 with 3 Axes>"
      ]
     },
     "metadata": {},
     "output_type": "display_data"
    }
   ],
   "source": [
    "ig, axes = plt.subplots(1, 3, figsize=(18, 6))\n",
    "\n",
    "# Histograma con todos los datos\n",
    "sns.histplot(c[\"TransactionAmt\"], bins=1000, kde=True, color='skyblue', ax=axes[0])\n",
    "axes[0].set_title('Todos los datos')\n",
    "axes[0].set_xlabel('TransactionAmt')\n",
    "axes[0].set_ylabel('Frecuencia')\n",
    "\n",
    "# Histograma donde la columna isFraud = 0\n",
    "sns.histplot(c[c[\"isFraud\"] == False][\"TransactionAmt\"], bins=1000, kde=True, color='green', ax=axes[1])\n",
    "axes[1].set_title('isFraud = 0')\n",
    "axes[1].set_xlabel('TransactionAmt')\n",
    "axes[1].set_ylabel('Frecuencia')\n",
    "\n",
    "# Histograma donde la columna isFraud = 1\n",
    "sns.histplot(c[c['isFraud'] == True][\"TransactionAmt\"], bins=1000, kde=True, color='red', ax=axes[2])\n",
    "axes[2].set_title('isFraud = 1')\n",
    "axes[2].set_xlabel('TransactionAmt')\n",
    "axes[2].set_ylabel('Frecuencia')\n",
    "\n",
    "plt.tight_layout()  \n",
    "plt.show()"
   ]
  },
  {
   "cell_type": "markdown",
   "metadata": {},
   "source": [
    "Se puede observar que para las transacciones no fraudulentas hay bayes en datos al rededor de 80 y 130, por el contrario las transacciones fraudulentas si presentan una frecuencia proporcional de estos, indicando que podria haber relevancia en cuanto al valor de TransactionAmt.\n",
    "\n",
    "Se aprecia curvas semejantes a la distribucion exponencial."
   ]
  },
  {
   "cell_type": "code",
   "execution_count": 11,
   "metadata": {},
   "outputs": [
    {
     "data": {
      "image/png": "[encoded data removed]",
      "text/plain": [
       "<Figure size 800x600 with 1 Axes>"
      ]
     },
     "metadata": {},
     "output_type": "display_data"
    }
   ],
   "source": [
    "fig, ax = plt.subplots(1, 1, figsize=(8, 6))\n",
    "\n",
    "# Crear un boxplot para comparar 'TransactionAmt' según 'isFraud'\n",
    "# Dado que 'isFraud' es una variable categórica, lo usamos como eje x\n",
    "sns.boxplot(data=c, x='isFraud', y='TransactionAmt', ax=ax, palette=['green', 'red'])\n",
    "\n",
    "# Añadir títulos y etiquetas\n",
    "ax.set_title('Comparación de TransactionAmt por isFraud')\n",
    "ax.set_xlabel('isFraud')\n",
    "ax.set_ylabel('TransactionAmt')\n",
    "\n",
    "plt.show()"
   ]
  },
  {
   "cell_type": "markdown",
   "metadata": {},
   "source": [
    "Se puede apreciar que para los casos de fraude, los valores de TransactionAmt tienden a ser mayores que cuando no hay fraude. "
   ]
  },
  {
   "cell_type": "code",
   "execution_count": 110,
   "metadata": {},
   "outputs": [],
   "source": [
    "d=df_n_num[df_n_num[\"TransactionAmt\"]>b[1]][[\"TransactionAmt\",\"isFraud\"]]"
   ]
  },
  {
   "cell_type": "markdown",
   "metadata": {},
   "source": [
    "Se crea otro Df con la informacion de TransactionAmt con valores mayores al percentil 2.5."
   ]
  },
  {
   "cell_type": "code",
   "execution_count": 113,
   "metadata": {},
   "outputs": [
    {
     "data": {
      "image/png": "[encoded data removed]",
      "text/plain": [
       "<Figure size 800x600 with 1 Axes>"
      ]
     },
     "metadata": {},
     "output_type": "display_data"
    }
   ],
   "source": [
    "fig, ax = plt.subplots(1, 1, figsize=(8, 6))\n",
    "\n",
    "# Crear un boxplot para comparar 'TransactionAmt' según 'isFraud'\n",
    "# Dado que 'isFraud' es una variable categórica, lo usamos como eje x\n",
    "sns.boxplot(data=d, x='isFraud', y='TransactionAmt', ax=ax, palette=['green', 'red'] )\n",
    "ax.set_ylim(0,7000)\n",
    "\n",
    "# Añadir títulos y etiquetas\n",
    "ax.set_title('Comparación de TransactionAmt por isFraud')\n",
    "ax.set_xlabel('isFraud')\n",
    "ax.set_ylabel('TransactionAmt')\n",
    "\n",
    "plt.show()"
   ]
  },
  {
   "cell_type": "markdown",
   "metadata": {},
   "source": [
    "Se puede observar que las transacciones que no son fraude presentan una distribucion mucho mas amplia que las transacciones que si, se  puede ver que la media se encuentra cerca del percentir 75 de Fraude y valores mas altos en general."
   ]
  },
  {
   "cell_type": "code",
   "execution_count": 115,
   "metadata": {},
   "outputs": [
    {
     "data": {
      "image/png": "[encoded data removed]",
      "text/plain": [
       "<Figure size 1800x600 with 3 Axes>"
      ]
     },
     "metadata": {},
     "output_type": "display_data"
    }
   ],
   "source": [
    "ig, axes = plt.subplots(1, 3, figsize=(18, 6))\n",
    "\n",
    "sns.histplot(df_n_num[\"C3\"], bins=1000, kde=True, color='skyblue', ax=axes[0])\n",
    "axes[0].set_title('Todos los datos')\n",
    "axes[0].set_xlabel('TransactionAmt')\n",
    "axes[0].set_ylabel('Frecuencia')\n",
    "\n",
    "# Histograma donde la columna isFraud = 0\n",
    "sns.histplot(df_n_num[df_n_num[\"isFraud\"] == False][\"C3\"], bins=1000, kde=True, color='green', ax=axes[1])\n",
    "axes[1].set_title('isFraud = 0')\n",
    "axes[1].set_xlabel('TransactionAmt')\n",
    "axes[1].set_ylabel('Frecuencia')\n",
    "\n",
    "# Histograma donde la columna isFraud = 1\n",
    "sns.histplot(df_n_num[df_n_num['isFraud'] == True][\"C3\"], bins=1000, kde=True, color='red', ax=axes[2])\n",
    "axes[2].set_title('isFraud = 1')\n",
    "axes[2].set_xlabel('TransactionAmt')\n",
    "axes[2].set_ylabel('Frecuencia')\n",
    "\n",
    "plt.tight_layout()  \n",
    "plt.show()"
   ]
  },
  {
   "cell_type": "markdown",
   "metadata": {},
   "source": [
    "Se observa que la gran parte de los datos se concentran en 0, adicional se ve que las transacciones no fraudulentas tienen algunos datos que crecen hasta 25, en cambio los de fraude siempre se mantienen entre 0 y 1."
   ]
  },
  {
   "cell_type": "code",
   "execution_count": 121,
   "metadata": {},
   "outputs": [
    {
     "data": {
      "text/plain": [
       "0.025    0.0\n",
       "0.975    0.0\n",
       "Name: C3, dtype: float64"
      ]
     },
     "execution_count": 121,
     "metadata": {},
     "output_type": "execute_result"
    }
   ],
   "source": [
    "df_n_num[\"C3\"].quantile([0.025,0.975])"
   ]
  },
  {
   "cell_type": "markdown",
   "metadata": {},
   "source": [
    "Como descrito previamente, la mayoria de datos corresponden al valor de 0."
   ]
  },
  {
   "cell_type": "code",
   "execution_count": 138,
   "metadata": {},
   "outputs": [
    {
     "data": {
      "text/plain": [
       "0.025    0.0\n",
       "0.999    0.0\n",
       "Name: C3, dtype: float64"
      ]
     },
     "execution_count": 138,
     "metadata": {},
     "output_type": "execute_result"
    }
   ],
   "source": [
    "df_n_num[df_n_num[\"isFraud\"]==True][\"C3\"].quantile([0.025,0.999])"
   ]
  },
  {
   "cell_type": "code",
   "execution_count": 139,
   "metadata": {},
   "outputs": [
    {
     "data": {
      "text/plain": [
       "0.025    0.0\n",
       "0.999    1.0\n",
       "Name: C3, dtype: float64"
      ]
     },
     "execution_count": 139,
     "metadata": {},
     "output_type": "execute_result"
    }
   ],
   "source": [
    "df_n_num[df_n_num[\"isFraud\"]==False][\"C3\"].quantile([0.025,0.999])"
   ]
  },
  {
   "cell_type": "code",
   "execution_count": 143,
   "metadata": {},
   "outputs": [
    {
     "name": "stdout",
     "output_type": "stream",
     "text": [
      "0.9979330301777594\n"
     ]
    }
   ],
   "source": [
    "n=len(df_n_num[(df_n_num[\"isFraud\"]==False) & (df_n_num[\"C3\"]>=1)])\n",
    "m=len(df_n_num[(df_n_num[\"isFraud\"]==True) & (df_n_num[\"C3\"]>=1)])\n",
    "print(n/(n+m))"
   ]
  },
  {
   "cell_type": "markdown",
   "metadata": {},
   "source": [
    "teniendo en cuenta que los fraudes se mueven entre 0 y 1, si la transaccion presenta valores de 1 o mas, en el 99,8% de las veces no es fraudulenta."
   ]
  },
  {
   "cell_type": "code",
   "execution_count": 145,
   "metadata": {},
   "outputs": [
    {
     "name": "stdout",
     "output_type": "stream",
     "text": [
      "0.9651998686398203\n"
     ]
    }
   ],
   "source": [
    "n=len(df_n_num[(df_n_num[\"isFraud\"]==False)])\n",
    "m=len(df_n_num[(df_n_num[\"isFraud\"]==True)])\n",
    "print(n/(n+m))"
   ]
  },
  {
   "cell_type": "markdown",
   "metadata": {},
   "source": [
    "La proporcion de no fraudes cambia al analizar todos los datos."
   ]
  },
  {
   "cell_type": "code",
   "execution_count": 124,
   "metadata": {},
   "outputs": [
    {
     "data": {
      "text/plain": [
       "0.0     579188\n",
       "1.0       2127\n",
       "2.0        180\n",
       "3.0         58\n",
       "4.0          7\n",
       "16.0         6\n",
       "9.0          5\n",
       "11.0         5\n",
       "5.0          3\n",
       "13.0         3\n",
       "14.0         3\n",
       "7.0          2\n",
       "17.0         2\n",
       "15.0         2\n",
       "12.0         2\n",
       "10.0         2\n",
       "8.0          2\n",
       "18.0         1\n",
       "19.0         1\n",
       "20.0         1\n",
       "21.0         1\n",
       "22.0         1\n",
       "23.0         1\n",
       "24.0         1\n",
       "25.0         1\n",
       "6.0          1\n",
       "26.0         1\n",
       "Name: C3, dtype: int64"
      ]
     },
     "execution_count": 124,
     "metadata": {},
     "output_type": "execute_result"
    }
   ],
   "source": [
    "e=df_n_num[df_n_num.C3 != 0][[\"C3\",\"isFraud\"]]\n",
    "df_n_num[\"C3\"].value_counts()\n"
   ]
  },
  {
   "cell_type": "markdown",
   "metadata": {},
   "source": [
    "De los 580.000 datos que se cuentan se tiene que casi todos tienen valores de 0 y con unos cuantos casos atipicos que cuentan con otro valor, los cuales son enteros."
   ]
  },
  {
   "cell_type": "code",
   "execution_count": 129,
   "metadata": {},
   "outputs": [
    {
     "data": {
      "image/png": "[encoded data removed]",
      "text/plain": [
       "<Figure size 800x600 with 1 Axes>"
      ]
     },
     "metadata": {},
     "output_type": "display_data"
    }
   ],
   "source": [
    "fig, ax = plt.subplots(1, 1, figsize=(8, 6))\n",
    "\n",
    "# Crear un boxplot para comparar 'TransactionAmt' según 'isFraud'\n",
    "# Dado que 'isFraud' es una variable categórica, lo usamos como eje x\n",
    "sns.boxplot(data=e, x='isFraud', y='C3', ax=ax, palette=['green', 'red'] )\n",
    "ax.set_ylim(0,5)\n",
    "\n",
    "# Añadir títulos y etiquetas\n",
    "ax.set_title('Comparación de TransactionAmt por isFraud')\n",
    "ax.set_xlabel('isFraud')\n",
    "ax.set_ylabel('TransactionAmt')\n",
    "\n",
    "plt.show()"
   ]
  },
  {
   "cell_type": "markdown",
   "metadata": {},
   "source": [
    "Omitiendo el valor de 0, se puede observar que los datos que son mayores a 1 son no fraudulentas."
   ]
  },
  {
   "cell_type": "code",
   "execution_count": 151,
   "metadata": {},
   "outputs": [
    {
     "data": {
      "text/plain": [
       "0.025    150.0\n",
       "0.975    185.0\n",
       "Name: card3, dtype: float64"
      ]
     },
     "execution_count": 151,
     "metadata": {},
     "output_type": "execute_result"
    }
   ],
   "source": [
    "df_n_num[\"C5\"].quantile([0.025,0.975])"
   ]
  },
  {
   "cell_type": "code",
   "execution_count": 133,
   "metadata": {},
   "outputs": [
    {
     "data": {
      "image/png": "[encoded data removed]",
      "text/plain": [
       "<Figure size 800x600 with 1 Axes>"
      ]
     },
     "metadata": {},
     "output_type": "display_data"
    }
   ],
   "source": [
    "fig, ax = plt.subplots(1, 1, figsize=(8, 6))\n",
    "\n",
    "# Crear un boxplot para comparar 'TransactionAmt' según 'isFraud'\n",
    "# Dado que 'isFraud' es una variable categórica, lo usamos como eje x\n",
    "sns.boxplot(data=df_n_num, x='isFraud', y='C5', ax=ax, palette=['green', 'red'] )\n",
    "ax.set_ylim(0,10)\n",
    "\n",
    "# Añadir títulos y etiquetas\n",
    "ax.set_title('Comparación de TransactionAmt por isFraud')\n",
    "ax.set_xlabel('isFraud')\n",
    "ax.set_ylabel('TransactionAmt')\n",
    "\n",
    "plt.show()"
   ]
  },
  {
   "cell_type": "code",
   "execution_count": 158,
   "metadata": {},
   "outputs": [
    {
     "data": {
      "text/plain": [
       "150.0    514142\n",
       "185.0     56345\n",
       "106.0      1571\n",
       "144.0      1245\n",
       "146.0      1230\n",
       "          ...  \n",
       "125.0         1\n",
       "101.0         1\n",
       "199.0         1\n",
       "132.0         1\n",
       "173.0         1\n",
       "Name: card3, Length: 109, dtype: int64"
      ]
     },
     "execution_count": 158,
     "metadata": {},
     "output_type": "execute_result"
    }
   ],
   "source": [
    "df_n_num[\"card3\"].value_counts()"
   ]
  },
  {
   "cell_type": "markdown",
   "metadata": {},
   "source": [
    "La gran mayoria de datos tienen valores de 150 y 185."
   ]
  },
  {
   "cell_type": "code",
   "execution_count": 149,
   "metadata": {},
   "outputs": [
    {
     "data": {
      "text/plain": [
       "0.025    150.0\n",
       "0.975    185.0\n",
       "Name: card3, dtype: float64"
      ]
     },
     "execution_count": 149,
     "metadata": {},
     "output_type": "execute_result"
    }
   ],
   "source": [
    "df_n_num[\"card3\"].quantile([0.025,0.975])"
   ]
  },
  {
   "cell_type": "code",
   "execution_count": 152,
   "metadata": {},
   "outputs": [
    {
     "data": {
      "text/plain": [
       "0.025    150.0\n",
       "0.975    185.0\n",
       "Name: card3, dtype: float64"
      ]
     },
     "execution_count": 152,
     "metadata": {},
     "output_type": "execute_result"
    }
   ],
   "source": [
    "df_n_num[df_n_num[\"isFraud\"]==False][\"card3\"].quantile([0.025,0.975])"
   ]
  },
  {
   "cell_type": "code",
   "execution_count": 153,
   "metadata": {},
   "outputs": [
    {
     "data": {
      "text/plain": [
       "0.025    150.0\n",
       "0.975    185.0\n",
       "Name: card3, dtype: float64"
      ]
     },
     "execution_count": 153,
     "metadata": {},
     "output_type": "execute_result"
    }
   ],
   "source": [
    "df_n_num[df_n_num[\"isFraud\"]==True][\"card3\"].quantile([0.025,0.975])"
   ]
  },
  {
   "cell_type": "markdown",
   "metadata": {},
   "source": [
    "el 95% de los datos estan presentes en 150 y 185, tanto para transacciones no fraudulentas como las fraudulentas."
   ]
  },
  {
   "cell_type": "code",
   "execution_count": 157,
   "metadata": {},
   "outputs": [
    {
     "data": {
      "image/png": "[encoded data removed]",
      "text/plain": [
       "<Figure size 1800x600 with 3 Axes>"
      ]
     },
     "metadata": {},
     "output_type": "display_data"
    }
   ],
   "source": [
    "ig, axes = plt.subplots(1, 3, figsize=(18, 6))\n",
    "\n",
    "sns.histplot(df_n_num[\"card3\"], bins=50, kde=True, color='skyblue', ax=axes[0])\n",
    "axes[0].set_title('Todos los datos')\n",
    "axes[0].set_xlabel('TransactionAmt')\n",
    "axes[0].set_ylabel('Frecuencia')\n",
    "axes[0].set_xlim(140, 200)\n",
    "\n",
    "# Histograma donde la columna isFraud = 0\n",
    "sns.histplot(df_n_num[df_n_num[\"isFraud\"] == False][\"card3\"], bins=50, kde=True, color='green', ax=axes[1])\n",
    "axes[1].set_title('isFraud = 0')\n",
    "axes[1].set_xlabel('TransactionAmt')\n",
    "axes[1].set_ylabel('Frecuencia')\n",
    "axes[1].set_xlim(140, 200)\n",
    "\n",
    "# Histograma donde la columna isFraud = 1\n",
    "sns.histplot(df_n_num[df_n_num['isFraud'] == True][\"card3\"], bins=50, kde=True, color='red', ax=axes[2])\n",
    "axes[2].set_title('isFraud = 1')\n",
    "axes[2].set_xlabel('TransactionAmt')\n",
    "axes[2].set_ylabel('Frecuencia')\n",
    "axes[2].set_xlim(140, 200)\n",
    "\n",
    "plt.tight_layout()  \n",
    "plt.show()"
   ]
  },
  {
   "cell_type": "markdown",
   "metadata": {},
   "source": [
    "Las transacciones fraudulentas presentan una gran proporcion para el valor 185, con respecto a la proporcion de los que no son fraude."
   ]
  },
  {
   "cell_type": "code",
   "execution_count": 159,
   "metadata": {},
   "outputs": [
    {
     "name": "stdout",
     "output_type": "stream",
     "text": [
      "0.9758138377205349\n"
     ]
    }
   ],
   "source": [
    "n=len(df_n_num[(df_n_num[\"isFraud\"]==False) & (df_n_num[\"card3\"]>=180) & (df_n_num[\"card3\"]<=190)])\n",
    "m=len(df_n_num[(df_n_num[\"isFraud\"]==True) & (df_n_num[\"card3\"]>=180) & (df_n_num[\"card3\"]<=190)])\n",
    "print(n/(n+m))"
   ]
  },
  {
   "cell_type": "code",
   "execution_count": 160,
   "metadata": {},
   "outputs": [
    {
     "name": "stdout",
     "output_type": "stream",
     "text": [
      "0.8696872847986157\n"
     ]
    }
   ],
   "source": [
    "n=len(df_n_num[(df_n_num[\"isFraud\"]==False) & (df_n_num[\"card3\"]>=180) & (df_n_num[\"card3\"]<=190)])\n",
    "m=len(df_n_num[(df_n_num[\"isFraud\"]==True) & (df_n_num[\"card3\"]>=180) & (df_n_num[\"card3\"]<=190)])\n",
    "print(n/(n+m))"
   ]
  },
  {
   "cell_type": "markdown",
   "metadata": {},
   "source": [
    "Relacionando la proporcion de valores menores o iguales a 190 entre fraude y no fraude, se puede observar que se comporta parecido a la proporcion de datos de fraude o no fraude. Por otro lado para los valores mayores a 190 se considera una proporcion mayor de fraudes."
   ]
  },
  {
   "cell_type": "code",
   "execution_count": 161,
   "metadata": {},
   "outputs": [
    {
     "name": "stdout",
     "output_type": "stream",
     "text": [
      "0.9594887595572292\n"
     ]
    }
   ],
   "source": [
    "n=len(df_n_num[(df_n_num[\"isFraud\"]==False) & (df_n_num[\"card3\"]<150)])\n",
    "m=len(df_n_num[(df_n_num[\"isFraud\"]==True) & (df_n_num[\"card3\"]<150)])\n",
    "print(n/(n+m))"
   ]
  },
  {
   "cell_type": "code",
   "execution_count": 162,
   "metadata": {},
   "outputs": [
    {
     "data": {
      "text/plain": [
       "321.0    48935\n",
       "111.0    45191\n",
       "555.0    41995\n",
       "490.0    38145\n",
       "583.0    21803\n",
       "         ...  \n",
       "388.0       39\n",
       "153.0       38\n",
       "557.0       37\n",
       "473.0       18\n",
       "582.0       14\n",
       "Name: card2, Length: 500, dtype: int64"
      ]
     },
     "execution_count": 162,
     "metadata": {},
     "output_type": "execute_result"
    }
   ],
   "source": [
    "df_n_num[\"card2\"].value_counts()"
   ]
  },
  {
   "cell_type": "code",
   "execution_count": 165,
   "metadata": {},
   "outputs": [
    {
     "data": {
      "text/plain": [
       "0.025    111.0\n",
       "0.975    583.0\n",
       "Name: card2, dtype: float64"
      ]
     },
     "execution_count": 165,
     "metadata": {},
     "output_type": "execute_result"
    }
   ],
   "source": [
    "df_n_num[\"card2\"].quantile([0.025,0.975])"
   ]
  },
  {
   "cell_type": "code",
   "execution_count": 164,
   "metadata": {},
   "outputs": [
    {
     "data": {
      "text/plain": [
       "0.025    111.0\n",
       "0.975    583.0\n",
       "Name: card2, dtype: float64"
      ]
     },
     "execution_count": 164,
     "metadata": {},
     "output_type": "execute_result"
    }
   ],
   "source": [
    "df_n_num[df_n_num[\"isFraud\"]==False][\"card2\"].quantile([0.025,0.975])"
   ]
  },
  {
   "cell_type": "code",
   "execution_count": 163,
   "metadata": {},
   "outputs": [
    {
     "data": {
      "text/plain": [
       "0.025    104.0\n",
       "0.975    583.0\n",
       "Name: card2, dtype: float64"
      ]
     },
     "execution_count": 163,
     "metadata": {},
     "output_type": "execute_result"
    }
   ],
   "source": [
    "df_n_num[df_n_num[\"isFraud\"]==True][\"card2\"].quantile([0.025,0.975])"
   ]
  },
  {
   "cell_type": "markdown",
   "metadata": {},
   "source": [
    "Tanto para fraude como para no fraude tienen los mismos limites percentiles de 2.5 y 97.5"
   ]
  },
  {
   "cell_type": "code",
   "execution_count": 166,
   "metadata": {},
   "outputs": [
    {
     "data": {
      "image/png": "[encoded data removed]",
      "text/plain": [
       "<Figure size 1800x600 with 3 Axes>"
      ]
     },
     "metadata": {},
     "output_type": "display_data"
    }
   ],
   "source": [
    "ig, axes = plt.subplots(1, 3, figsize=(18, 6))\n",
    "\n",
    "sns.histplot(df_n_num[\"card2\"], bins=50, kde=True, color='skyblue', ax=axes[0])\n",
    "axes[0].set_title('Todos los datos')\n",
    "axes[0].set_xlabel('TransactionAmt')\n",
    "axes[0].set_ylabel('Frecuencia')\n",
    "#axes[0].set_xlim(140, 200)\n",
    "\n",
    "# Histograma donde la columna isFraud = 0\n",
    "sns.histplot(df_n_num[df_n_num[\"isFraud\"] == False][\"card2\"], bins=50, kde=True, color='green', ax=axes[1])\n",
    "axes[1].set_title('isFraud = 0')\n",
    "axes[1].set_xlabel('TransactionAmt')\n",
    "axes[1].set_ylabel('Frecuencia')\n",
    "#axes[1].set_xlim(140, 200)\n",
    "\n",
    "# Histograma donde la columna isFraud = 1\n",
    "sns.histplot(df_n_num[df_n_num['isFraud'] == True][\"card2\"], bins=50, kde=True, color='red', ax=axes[2])\n",
    "axes[2].set_title('isFraud = 1')\n",
    "axes[2].set_xlabel('TransactionAmt')\n",
    "axes[2].set_ylabel('Frecuencia')\n",
    "#axes[2].set_xlim(140, 200)\n",
    "\n",
    "plt.tight_layout()  \n",
    "plt.show()"
   ]
  },
  {
   "cell_type": "markdown",
   "metadata": {},
   "source": [
    "No se logra observar una clara distribucion o algun patron caracteristico en los datos, por ende no se puede inferir mucho a simple vista sobre la variable Card2."
   ]
  },
  {
   "cell_type": "markdown",
   "metadata": {},
   "source": [
    "Un arbol de regresion no es capaz de hacer"
   ]
  },
  {
   "cell_type": "markdown",
   "metadata": {},
   "source": [
    "### Columnas Categoricas"
   ]
  },
  {
   "cell_type": "code",
   "execution_count": 180,
   "metadata": {},
   "outputs": [
    {
     "data": {
      "text/html": [
       "<div>\n",
       "<style scoped>\n",
       "    .dataframe tbody tr th:only-of-type {\n",
       "        vertical-align: middle;\n",
       "    }\n",
       "\n",
       "    .dataframe tbody tr th {\n",
       "        vertical-align: top;\n",
       "    }\n",
       "\n",
       "    .dataframe thead th {\n",
       "        text-align: right;\n",
       "    }\n",
       "</style>\n",
       "<table border=\"1\" class=\"dataframe\">\n",
       "  <thead>\n",
       "    <tr style=\"text-align: right;\">\n",
       "      <th></th>\n",
       "      <th>Entity</th>\n",
       "      <th>card6</th>\n",
       "      <th>isFraud</th>\n",
       "    </tr>\n",
       "  </thead>\n",
       "  <tbody>\n",
       "    <tr>\n",
       "      <th>1</th>\n",
       "      <td>MastC</td>\n",
       "      <td>True</td>\n",
       "      <td>False</td>\n",
       "    </tr>\n",
       "    <tr>\n",
       "      <th>2</th>\n",
       "      <td>Visa</td>\n",
       "      <td>False</td>\n",
       "      <td>False</td>\n",
       "    </tr>\n",
       "    <tr>\n",
       "      <th>3</th>\n",
       "      <td>MastC</td>\n",
       "      <td>False</td>\n",
       "      <td>False</td>\n",
       "    </tr>\n",
       "    <tr>\n",
       "      <th>4</th>\n",
       "      <td>MastC</td>\n",
       "      <td>True</td>\n",
       "      <td>False</td>\n",
       "    </tr>\n",
       "    <tr>\n",
       "      <th>5</th>\n",
       "      <td>Visa</td>\n",
       "      <td>False</td>\n",
       "      <td>False</td>\n",
       "    </tr>\n",
       "    <tr>\n",
       "      <th>...</th>\n",
       "      <td>...</td>\n",
       "      <td>...</td>\n",
       "      <td>...</td>\n",
       "    </tr>\n",
       "    <tr>\n",
       "      <th>590534</th>\n",
       "      <td>MastC</td>\n",
       "      <td>False</td>\n",
       "      <td>False</td>\n",
       "    </tr>\n",
       "    <tr>\n",
       "      <th>590536</th>\n",
       "      <td>MastC</td>\n",
       "      <td>False</td>\n",
       "      <td>False</td>\n",
       "    </tr>\n",
       "    <tr>\n",
       "      <th>590537</th>\n",
       "      <td>MastC</td>\n",
       "      <td>False</td>\n",
       "      <td>False</td>\n",
       "    </tr>\n",
       "    <tr>\n",
       "      <th>590538</th>\n",
       "      <td>MastC</td>\n",
       "      <td>False</td>\n",
       "      <td>False</td>\n",
       "    </tr>\n",
       "    <tr>\n",
       "      <th>590539</th>\n",
       "      <td>MastC</td>\n",
       "      <td>True</td>\n",
       "      <td>False</td>\n",
       "    </tr>\n",
       "  </tbody>\n",
       "</table>\n",
       "<p>581607 rows × 3 columns</p>\n",
       "</div>"
      ],
      "text/plain": [
       "       Entity  card6  isFraud\n",
       "1       MastC   True    False\n",
       "2        Visa  False    False\n",
       "3       MastC  False    False\n",
       "4       MastC   True    False\n",
       "5        Visa  False    False\n",
       "...       ...    ...      ...\n",
       "590534  MastC  False    False\n",
       "590536  MastC  False    False\n",
       "590537  MastC  False    False\n",
       "590538  MastC  False    False\n",
       "590539  MastC   True    False\n",
       "\n",
       "[581607 rows x 3 columns]"
      ]
     },
     "execution_count": 180,
     "metadata": {},
     "output_type": "execute_result"
    }
   ],
   "source": [
    "df_n_cat"
   ]
  },
  {
   "cell_type": "code",
   "execution_count": 182,
   "metadata": {},
   "outputs": [
    {
     "name": "stdout",
     "output_type": "stream",
     "text": [
      "Proporción de 'True' por categoría:\n",
      "Entity\n",
      "AmExp    0.971004\n",
      "Disc     0.914698\n",
      "MastC    0.965635\n",
      "Visa     0.965567\n",
      "dtype: float64\n"
     ]
    }
   ],
   "source": [
    "total_count_by_category = df_n_cat.groupby('Entity').size()\n",
    "\n",
    "# Contar el número de veces que 'True' aparece en 'Flag' por categoría\n",
    "true_count_by_category = df_n_cat[df_n_cat['isFraud'] == False].groupby('Entity').size()\n",
    "\n",
    "# Calcular la proporción de 'True' con respecto al total por categoría\n",
    "proportion_by_category = true_count_by_category / total_count_by_category\n",
    "\n",
    "print(\"Proporción de 'True' por categoría:\")\n",
    "print(proportion_by_category)"
   ]
  },
  {
   "cell_type": "markdown",
   "metadata": {},
   "source": [
    "Extrayendo la proporcion de datos no fraudulentos en la poblacion por cada posible valor de \"Entity\", tenemos que se presentan mayores fraudes para las tarjetas discovery y la que menos presenta fraudes es la american express"
   ]
  },
  {
   "cell_type": "code",
   "execution_count": 183,
   "metadata": {},
   "outputs": [
    {
     "name": "stdout",
     "output_type": "stream",
     "text": [
      "Proporción de 'True' por categoría:\n",
      "card6\n",
      "False    0.975624\n",
      "True     0.934146\n",
      "dtype: float64\n"
     ]
    }
   ],
   "source": [
    "total_count_by_category = df_n_cat.groupby('card6').size()\n",
    "\n",
    "# Contar el número de veces que 'True' aparece en 'Flag' por categoría\n",
    "true_count_by_category = df_n_cat[df_n_cat['isFraud'] == False].groupby('card6').size()\n",
    "\n",
    "# Calcular la proporción de 'True' con respecto al total por categoría\n",
    "proportion_by_category = true_count_by_category / total_count_by_category\n",
    "\n",
    "print(\"Proporción de 'True' por categoría:\")\n",
    "print(proportion_by_category)"
   ]
  },
  {
   "cell_type": "markdown",
   "metadata": {},
   "source": [
    "Los valores True de la variable Card6 presentan una proporcion mayor de transacciones fraudulentas que las de False."
   ]
  }
 ],
 "metadata": {
  "kernelspec": {
   "display_name": "base",
   "language": "python",
   "name": "python3"
  },
  "language_info": {
   "codemirror_mode": {
    "name": "ipython",
    "version": 3
   },
   "file_extension": ".py",
   "mimetype": "text/x-python",
   "name": "python",
   "nbconvert_exporter": "python",
   "pygments_lexer": "ipython3",
   "version": "3.10.9"
  }
 },
 "nbformat": 4,
 "nbformat_minor": 2
}
